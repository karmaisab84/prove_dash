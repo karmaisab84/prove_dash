{
 "cells": [
  {
   "cell_type": "markdown",
   "id": "615236c1-0065-4cdf-906b-ca0c6ebe7440",
   "metadata": {},
   "source": [
    "When you run the cell, the output should look like this:"
   ]
  },
  {
   "cell_type": "markdown",
   "id": "3919bf3f-d362-4dca-b834-8cde23d038cb",
   "metadata": {},
   "source": [
    "When you run the cell, the **output** should look like this:\n",
    "\n"
   ]
  },
  {
   "cell_type": "markdown",
   "id": "167479d0-2cd7-41db-8c57-a0a2238e863f",
   "metadata": {},
   "source": [
    "# Header\n",
    "## Header\n",
    "### Header"
   ]
  },
  {
   "cell_type": "markdown",
   "id": "df7ed450-8c54-462d-9eac-6c61ce9bc703",
   "metadata": {},
   "source": [
    "- Item 1\n",
    "* Item 2\n",
    "* + Item 3"
   ]
  },
  {
   "cell_type": "code",
   "execution_count": null,
   "id": "d789fe81-a4a3-4a74-8c7e-573441b8056e",
   "metadata": {},
   "outputs": [],
   "source": []
  }
 ],
 "metadata": {
  "kernelspec": {
   "display_name": "Python 3 (ipykernel)",
   "language": "python",
   "name": "python3"
  },
  "language_info": {
   "codemirror_mode": {
    "name": "ipython",
    "version": 3
   },
   "file_extension": ".py",
   "mimetype": "text/x-python",
   "name": "python",
   "nbconvert_exporter": "python",
   "pygments_lexer": "ipython3",
   "version": "3.11.3"
  }
 },
 "nbformat": 4,
 "nbformat_minor": 5
}
