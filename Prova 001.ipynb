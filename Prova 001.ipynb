{
 "cells": [
  {
   "cell_type": "markdown",
   "id": "47bf30eb-b544-415a-91af-3ced6dfff7e8",
   "metadata": {},
   "source": [
    "### PROVA GRAFICI"
   ]
  },
  {
   "cell_type": "code",
   "execution_count": 4,
   "id": "9be3f2a2-69e9-4eeb-b8fd-58920004fa5e",
   "metadata": {},
   "outputs": [],
   "source": [
    "import pandas as pd\n",
    "import matplotlib.pyplot as plt"
   ]
  },
  {
   "cell_type": "code",
   "execution_count": 5,
   "id": "0bf4546e-ab08-4dcf-ab90-102db13c875f",
   "metadata": {},
   "outputs": [],
   "source": [
    "df = pd.read_csv('fortune500.csv')"
   ]
  },
  {
   "cell_type": "markdown",
   "id": "4016145a-5992-4ebd-a03a-eea5f3b9b44f",
   "metadata": {},
   "source": [
    "Le prime cique celle del database:\n",
    "* General Motors\n",
    "* Exxon Mobil\n",
    "* U.S. Steel\n",
    "* General Electric\n",
    "* Esmark"
   ]
  },
  {
   "cell_type": "code",
   "execution_count": 6,
   "id": "433d9055-a61e-405c-bb4c-d4e08434be67",
   "metadata": {},
   "outputs": [
    {
     "data": {
      "text/html": [
       "<div>\n",
       "<style scoped>\n",
       "    .dataframe tbody tr th:only-of-type {\n",
       "        vertical-align: middle;\n",
       "    }\n",
       "\n",
       "    .dataframe tbody tr th {\n",
       "        vertical-align: top;\n",
       "    }\n",
       "\n",
       "    .dataframe thead th {\n",
       "        text-align: right;\n",
       "    }\n",
       "</style>\n",
       "<table border=\"1\" class=\"dataframe\">\n",
       "  <thead>\n",
       "    <tr style=\"text-align: right;\">\n",
       "      <th></th>\n",
       "      <th>Year</th>\n",
       "      <th>Rank</th>\n",
       "      <th>Company</th>\n",
       "      <th>Revenue (in millions)</th>\n",
       "      <th>Profit (in millions)</th>\n",
       "    </tr>\n",
       "  </thead>\n",
       "  <tbody>\n",
       "    <tr>\n",
       "      <th>0</th>\n",
       "      <td>1955</td>\n",
       "      <td>1</td>\n",
       "      <td>General Motors</td>\n",
       "      <td>9823.5</td>\n",
       "      <td>806</td>\n",
       "    </tr>\n",
       "    <tr>\n",
       "      <th>1</th>\n",
       "      <td>1955</td>\n",
       "      <td>2</td>\n",
       "      <td>Exxon Mobil</td>\n",
       "      <td>5661.4</td>\n",
       "      <td>584.8</td>\n",
       "    </tr>\n",
       "    <tr>\n",
       "      <th>2</th>\n",
       "      <td>1955</td>\n",
       "      <td>3</td>\n",
       "      <td>U.S. Steel</td>\n",
       "      <td>3250.4</td>\n",
       "      <td>195.4</td>\n",
       "    </tr>\n",
       "    <tr>\n",
       "      <th>3</th>\n",
       "      <td>1955</td>\n",
       "      <td>4</td>\n",
       "      <td>General Electric</td>\n",
       "      <td>2959.1</td>\n",
       "      <td>212.6</td>\n",
       "    </tr>\n",
       "    <tr>\n",
       "      <th>4</th>\n",
       "      <td>1955</td>\n",
       "      <td>5</td>\n",
       "      <td>Esmark</td>\n",
       "      <td>2510.8</td>\n",
       "      <td>19.1</td>\n",
       "    </tr>\n",
       "  </tbody>\n",
       "</table>\n",
       "</div>"
      ],
      "text/plain": [
       "   Year  Rank           Company  Revenue (in millions) Profit (in millions)\n",
       "0  1955     1    General Motors                 9823.5                  806\n",
       "1  1955     2       Exxon Mobil                 5661.4                584.8\n",
       "2  1955     3        U.S. Steel                 3250.4                195.4\n",
       "3  1955     4  General Electric                 2959.1                212.6\n",
       "4  1955     5            Esmark                 2510.8                 19.1"
      ]
     },
     "execution_count": 6,
     "metadata": {},
     "output_type": "execute_result"
    }
   ],
   "source": [
    "df.head()"
   ]
  },
  {
   "cell_type": "code",
   "execution_count": 7,
   "id": "3d3db2c6-0896-4026-afa4-b4ca67674bfd",
   "metadata": {},
   "outputs": [
    {
     "data": {
      "text/plain": [
       "[<matplotlib.lines.Line2D at 0x21c79bf9e50>]"
      ]
     },
     "execution_count": 7,
     "metadata": {},
     "output_type": "execute_result"
    },
    {
     "data": {
      "image/png": "[encoded data removed]",
      "text/plain": [
       "<Figure size 640x480 with 1 Axes>"
      ]
     },
     "metadata": {},
     "output_type": "display_data"
    }
   ],
   "source": [
    "plt.plot(df[df.Company == 'General Motors']['Revenue (in millions)'])"
   ]
  },
  {
   "cell_type": "code",
   "execution_count": 8,
   "id": "29a0d129-281a-4876-8ecc-f60955f81dc5",
   "metadata": {},
   "outputs": [
    {
     "name": "stdout",
     "output_type": "stream",
     "text": [
      "4 is ciaone 5\n"
     ]
    }
   ],
   "source": [
    "print('%d is ciaone %d' % (4, 5))"
   ]
  },
  {
   "cell_type": "code",
   "execution_count": 9,
   "id": "b2873a86-fd72-4b9d-9c1a-a0c14163ede9",
   "metadata": {},
   "outputs": [
    {
     "name": "stdout",
     "output_type": "stream",
     "text": [
      "Il numero è :455\n"
     ]
    }
   ],
   "source": [
    "a = 455\n",
    "print(f'Il numero è :{a}')"
   ]
  },
  {
   "cell_type": "code",
   "execution_count": 10,
   "id": "4f0d9d8f-e8af-41a8-b557-6983de495fd1",
   "metadata": {},
   "outputs": [
    {
     "name": "stdout",
     "output_type": "stream",
     "text": [
      "Il numero è 455\n"
     ]
    }
   ],
   "source": [
    "print(f'Il numero è {a}')\n"
   ]
  },
  {
   "cell_type": "code",
   "execution_count": 11,
   "id": "e4d0a7a7-639c-4609-af63-15c9df99d50b",
   "metadata": {},
   "outputs": [],
   "source": [
    "%matplotlib inline"
   ]
  },
  {
   "cell_type": "code",
   "execution_count": 13,
   "id": "ec8137d0-30ca-459c-b227-f2b590237bba",
   "metadata": {},
   "outputs": [
    {
     "data": {
      "text/plain": [
       "<pandas.core.groupby.generic.DataFrameGroupBy object at 0x0000021C795C36D0>"
      ]
     },
     "execution_count": 13,
     "metadata": {},
     "output_type": "execute_result"
    }
   ],
   "source": [
    "df.groupby(['Year'])\n"
   ]
  },
  {
   "cell_type": "code",
   "execution_count": 15,
   "id": "11543b90-a7b6-41b1-bd97-9772a9a16880",
   "metadata": {},
   "outputs": [
    {
     "data": {
      "text/plain": [
       "Index(['Year', 'Rank', 'Company', 'Revenue (in millions)',\n",
       "       'Profit (in millions)'],\n",
       "      dtype='object')"
      ]
     },
     "execution_count": 15,
     "metadata": {},
     "output_type": "execute_result"
    }
   ],
   "source": [
    "df.columns"
   ]
  },
  {
   "cell_type": "code",
   "execution_count": 16,
   "id": "233efe84-d01b-4671-b14e-0b993d4e2198",
   "metadata": {},
   "outputs": [],
   "source": [
    "df.columns = ['year', 'rank', 'company', 'revenue',\n",
    "       'profit']"
   ]
  },
  {
   "cell_type": "code",
   "execution_count": 17,
   "id": "8ca309cf-6e1a-4e76-ada3-6438aba04a02",
   "metadata": {},
   "outputs": [
    {
     "data": {
      "text/html": [
       "<div>\n",
       "<style scoped>\n",
       "    .dataframe tbody tr th:only-of-type {\n",
       "        vertical-align: middle;\n",
       "    }\n",
       "\n",
       "    .dataframe tbody tr th {\n",
       "        vertical-align: top;\n",
       "    }\n",
       "\n",
       "    .dataframe thead th {\n",
       "        text-align: right;\n",
       "    }\n",
       "</style>\n",
       "<table border=\"1\" class=\"dataframe\">\n",
       "  <thead>\n",
       "    <tr style=\"text-align: right;\">\n",
       "      <th></th>\n",
       "      <th>year</th>\n",
       "      <th>revenue</th>\n",
       "      <th>profit</th>\n",
       "    </tr>\n",
       "  </thead>\n",
       "  <tbody>\n",
       "    <tr>\n",
       "      <th>0</th>\n",
       "      <td>1955</td>\n",
       "      <td>9823.5</td>\n",
       "      <td>806</td>\n",
       "    </tr>\n",
       "    <tr>\n",
       "      <th>1</th>\n",
       "      <td>1955</td>\n",
       "      <td>5661.4</td>\n",
       "      <td>584.8</td>\n",
       "    </tr>\n",
       "    <tr>\n",
       "      <th>2</th>\n",
       "      <td>1955</td>\n",
       "      <td>3250.4</td>\n",
       "      <td>195.4</td>\n",
       "    </tr>\n",
       "    <tr>\n",
       "      <th>3</th>\n",
       "      <td>1955</td>\n",
       "      <td>2959.1</td>\n",
       "      <td>212.6</td>\n",
       "    </tr>\n",
       "    <tr>\n",
       "      <th>4</th>\n",
       "      <td>1955</td>\n",
       "      <td>2510.8</td>\n",
       "      <td>19.1</td>\n",
       "    </tr>\n",
       "    <tr>\n",
       "      <th>...</th>\n",
       "      <td>...</td>\n",
       "      <td>...</td>\n",
       "      <td>...</td>\n",
       "    </tr>\n",
       "    <tr>\n",
       "      <th>25495</th>\n",
       "      <td>2005</td>\n",
       "      <td>3648.6</td>\n",
       "      <td>493</td>\n",
       "    </tr>\n",
       "    <tr>\n",
       "      <th>25496</th>\n",
       "      <td>2005</td>\n",
       "      <td>3631.6</td>\n",
       "      <td>175.4</td>\n",
       "    </tr>\n",
       "    <tr>\n",
       "      <th>25497</th>\n",
       "      <td>2005</td>\n",
       "      <td>3630.4</td>\n",
       "      <td>57.8</td>\n",
       "    </tr>\n",
       "    <tr>\n",
       "      <th>25498</th>\n",
       "      <td>2005</td>\n",
       "      <td>3616.6</td>\n",
       "      <td>70.6</td>\n",
       "    </tr>\n",
       "    <tr>\n",
       "      <th>25499</th>\n",
       "      <td>2005</td>\n",
       "      <td>3614.0</td>\n",
       "      <td>584</td>\n",
       "    </tr>\n",
       "  </tbody>\n",
       "</table>\n",
       "<p>25500 rows × 3 columns</p>\n",
       "</div>"
      ],
      "text/plain": [
       "       year  revenue profit\n",
       "0      1955   9823.5    806\n",
       "1      1955   5661.4  584.8\n",
       "2      1955   3250.4  195.4\n",
       "3      1955   2959.1  212.6\n",
       "4      1955   2510.8   19.1\n",
       "...     ...      ...    ...\n",
       "25495  2005   3648.6    493\n",
       "25496  2005   3631.6  175.4\n",
       "25497  2005   3630.4   57.8\n",
       "25498  2005   3616.6   70.6\n",
       "25499  2005   3614.0    584\n",
       "\n",
       "[25500 rows x 3 columns]"
      ]
     },
     "execution_count": 17,
     "metadata": {},
     "output_type": "execute_result"
    }
   ],
   "source": [
    " df[['year', 'revenue', 'profit']]"
   ]
  },
  {
   "cell_type": "code",
   "execution_count": 6,
   "id": "87a8655c-3509-4fbc-9ef0-d97061b6117c",
   "metadata": {},
   "outputs": [
    {
     "data": {
      "application/vnd.jupyter.widget-view+json": {
       "model_id": "a7143e4609604daeb08fa117ec6ddfe4",
       "version_major": 2,
       "version_minor": 0
      },
      "text/plain": [
       "interactive(children=(IntRangeSlider(value=(1955, 2005), continuous_update=False, description='Year range:', m…"
      ]
     },
     "metadata": {},
     "output_type": "display_data"
    },
    {
     "data": {
      "text/plain": [
       "<function __main__.update_plot(year_range)>"
      ]
     },
     "execution_count": 6,
     "metadata": {},
     "output_type": "execute_result"
    }
   ],
   "source": [
    "%matplotlib inline\n",
    "import pandas as pd\n",
    "from ipywidgets import interact, interactive, fixed, interact_manual\n",
    "import ipywidgets as widgets\n",
    "import matplotlib.pyplot as plt\n",
    "\n",
    "df = pd.read_csv('fortune500.csv')\n",
    "df.columns = ['year', 'rank', 'company', 'revenue', 'profit']\n",
    "g = df[['year', 'revenue', 'profit']].groupby(['year'])\n",
    "x = df.year.unique()\n",
    "y = g.sum().revenue\n",
    "\n",
    "def update_plot(year_range):\n",
    "    start_year, end_year = year_range\n",
    "    mask = (x >= start_year) & (x <= end_year)\n",
    "\n",
    "    fig, ax = plt.subplots(figsize=(10, 6))\n",
    "    ax.plot(x[mask], y[mask])\n",
    "    plt.show()\n",
    "    \n",
    "\n",
    "year_range_slider = widgets.IntRangeSlider(\n",
    "    value=[1955, 2005],\n",
    "    min=1955,\n",
    "    max=2005,\n",
    "    step=1,\n",
    "    description='Year range:',\n",
    "    continuous_update=False\n",
    ")\n",
    "\n",
    "interact(update_plot, year_range=year_range_slider)"
   ]
  },
  {
   "cell_type": "code",
   "execution_count": null,
   "id": "92ea55a4-e76e-4b75-b312-5de109b58305",
   "metadata": {},
   "outputs": [],
   "source": []
  }
 ],
 "metadata": {
  "kernelspec": {
   "display_name": "Python 3 (ipykernel)",
   "language": "python",
   "name": "python3"
  },
  "language_info": {
   "codemirror_mode": {
    "name": "ipython",
    "version": 3
   },
   "file_extension": ".py",
   "mimetype": "text/x-python",
   "name": "python",
   "nbconvert_exporter": "python",
   "pygments_lexer": "ipython3",
   "version": "3.11.3"
  },
  "widgets": {
   "application/vnd.jupyter.widget-state+json": {
    "state": {
     "0afd18f8ef644e3aa8b91767699978d4": {
      "model_module": "@jupyter-widgets/controls",
      "model_module_version": "2.0.0",
      "model_name": "SliderStyleModel",
      "state": {
       "description_width": ""
      }
     },
     "17a79226d4094ff3b80878c3cff6fdf6": {
      "model_module": "@jupyter-widgets/base",
      "model_module_version": "2.0.0",
      "model_name": "LayoutModel",
      "state": {}
     },
     "2f987eafa75f44928e2aa69253d26804": {
      "model_module": "@jupyter-widgets/controls",
      "model_module_version": "2.0.0",
      "model_name": "IntRangeSliderModel",
      "state": {
       "_model_name": "IntRangeSliderModel",
       "_view_name": "IntRangeSliderView",
       "behavior": "drag-tap",
       "continuous_update": false,
       "description": "Year range:",
       "layout": "IPY_MODEL_17a79226d4094ff3b80878c3cff6fdf6",
       "max": 2005,
       "min": 1955,
       "style": "IPY_MODEL_0afd18f8ef644e3aa8b91767699978d4",
       "value": [
        1955,
        2005
       ]
      }
     },
     "315795d9999b4d39a9febb51d0cccd54": {
      "model_module": "@jupyter-widgets/controls",
      "model_module_version": "2.0.0",
      "model_name": "SliderStyleModel",
      "state": {
       "description_width": ""
      }
     },
     "325d378687df4368af1aea6c554c88fe": {
      "model_module": "@jupyter-widgets/controls",
      "model_module_version": "2.0.0",
      "model_name": "VBoxModel",
      "state": {
       "_dom_classes": [
        "widget-interact"
       ],
       "children": [
        "IPY_MODEL_79684767c521488eb6b2660c44a7de0d",
        "IPY_MODEL_f0651519027f4681af1a1e5b3a2ed221"
       ],
       "layout": "IPY_MODEL_5cc1b635ec0b4e38849d847c7ea216d4"
      }
     },
     "35d41717a5924067a481adf7e9b60747": {
      "model_module": "@jupyter-widgets/base",
      "model_module_version": "2.0.0",
      "model_name": "LayoutModel",
      "state": {}
     },
     "452ff99d716848ef8024ef4228e96879": {
      "model_module": "@jupyter-widgets/base",
      "model_module_version": "2.0.0",
      "model_name": "LayoutModel",
      "state": {}
     },
     "555c70b9645547c8a7b801c5cb4219c2": {
      "model_module": "@jupyter-widgets/base",
      "model_module_version": "2.0.0",
      "model_name": "LayoutModel",
      "state": {}
     },
     "5cc1b635ec0b4e38849d847c7ea216d4": {
      "model_module": "@jupyter-widgets/base",
      "model_module_version": "2.0.0",
      "model_name": "LayoutModel",
      "state": {}
     },
     "79684767c521488eb6b2660c44a7de0d": {
      "model_module": "@jupyter-widgets/controls",
      "model_module_version": "2.0.0",
      "model_name": "IntRangeSliderModel",
      "state": {
       "_model_name": "IntRangeSliderModel",
       "_view_name": "IntRangeSliderView",
       "behavior": "drag-tap",
       "continuous_update": false,
       "description": "Year range:",
       "layout": "IPY_MODEL_555c70b9645547c8a7b801c5cb4219c2",
       "max": 2005,
       "min": 1955,
       "style": "IPY_MODEL_315795d9999b4d39a9febb51d0cccd54",
       "value": [
        1955,
        2005
       ]
      }
     },
     "a7143e4609604daeb08fa117ec6ddfe4": {
      "model_module": "@jupyter-widgets/controls",
      "model_module_version": "2.0.0",
      "model_name": "VBoxModel",
      "state": {
       "_dom_classes": [
        "widget-interact"
       ],
       "children": [
        "IPY_MODEL_2f987eafa75f44928e2aa69253d26804",
        "IPY_MODEL_b817f5f5f3e24faeb446b1c418388c9e"
       ],
       "layout": "IPY_MODEL_452ff99d716848ef8024ef4228e96879"
      }
     },
     "b817f5f5f3e24faeb446b1c418388c9e": {
      "model_module": "@jupyter-widgets/output",
      "model_module_version": "1.0.0",
      "model_name": "OutputModel",
      "state": {
       "layout": "IPY_MODEL_35d41717a5924067a481adf7e9b60747",
       "outputs": [
        {
         "data": {
          "image/png": "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",
          "text/plain": "<Figure size 1000x600 with 1 Axes>"
         },
         "metadata": {},
         "output_type": "display_data"
        }
       ]
      }
     },
     "bbd1cc1a0448428ea2f33896c58eb4d1": {
      "model_module": "@jupyter-widgets/base",
      "model_module_version": "2.0.0",
      "model_name": "LayoutModel",
      "state": {}
     },
     "f0651519027f4681af1a1e5b3a2ed221": {
      "model_module": "@jupyter-widgets/output",
      "model_module_version": "1.0.0",
      "model_name": "OutputModel",
      "state": {
       "layout": "IPY_MODEL_bbd1cc1a0448428ea2f33896c58eb4d1",
       "outputs": [
        {
         "ename": "NameError",
         "evalue": "name 'plt' is not defined",
         "output_type": "error",
         "traceback": [
          "\u001b[1;31m---------------------------------------------------------------------------\u001b[0m",
          "\u001b[1;31mNameError\u001b[0m                                 Traceback (most recent call last)",
          "File \u001b[1;32m~\\AppData\\Local\\Programs\\Python\\Python311\\Lib\\site-packages\\ipywidgets\\widgets\\interaction.py:243\u001b[0m, in \u001b[0;36minteractive.update\u001b[1;34m(self, *args)\u001b[0m\n\u001b[0;32m    241\u001b[0m     value \u001b[38;5;241m=\u001b[39m widget\u001b[38;5;241m.\u001b[39mget_interact_value()\n\u001b[0;32m    242\u001b[0m     \u001b[38;5;28mself\u001b[39m\u001b[38;5;241m.\u001b[39mkwargs[widget\u001b[38;5;241m.\u001b[39m_kwarg] \u001b[38;5;241m=\u001b[39m value\n\u001b[1;32m--> 243\u001b[0m \u001b[38;5;28mself\u001b[39m\u001b[38;5;241m.\u001b[39mresult \u001b[38;5;241m=\u001b[39m \u001b[38;5;28;43mself\u001b[39;49m\u001b[38;5;241;43m.\u001b[39;49m\u001b[43mf\u001b[49m\u001b[43m(\u001b[49m\u001b[38;5;241;43m*\u001b[39;49m\u001b[38;5;241;43m*\u001b[39;49m\u001b[38;5;28;43mself\u001b[39;49m\u001b[38;5;241;43m.\u001b[39;49m\u001b[43mkwargs\u001b[49m\u001b[43m)\u001b[49m\n\u001b[0;32m    244\u001b[0m show_inline_matplotlib_plots()\n\u001b[0;32m    245\u001b[0m \u001b[38;5;28;01mif\u001b[39;00m \u001b[38;5;28mself\u001b[39m\u001b[38;5;241m.\u001b[39mauto_display \u001b[38;5;129;01mand\u001b[39;00m \u001b[38;5;28mself\u001b[39m\u001b[38;5;241m.\u001b[39mresult \u001b[38;5;129;01mis\u001b[39;00m \u001b[38;5;129;01mnot\u001b[39;00m \u001b[38;5;28;01mNone\u001b[39;00m:\n",
          "Cell \u001b[1;32mIn[5], line 16\u001b[0m, in \u001b[0;36mupdate_plot\u001b[1;34m(year_range)\u001b[0m\n\u001b[0;32m     13\u001b[0m start_year, end_year \u001b[38;5;241m=\u001b[39m year_range\n\u001b[0;32m     14\u001b[0m mask \u001b[38;5;241m=\u001b[39m (x \u001b[38;5;241m>\u001b[39m\u001b[38;5;241m=\u001b[39m start_year) \u001b[38;5;241m&\u001b[39m (x \u001b[38;5;241m<\u001b[39m\u001b[38;5;241m=\u001b[39m end_year)\n\u001b[1;32m---> 16\u001b[0m fig, ax \u001b[38;5;241m=\u001b[39m \u001b[43mplt\u001b[49m\u001b[38;5;241m.\u001b[39msubplots(figsize\u001b[38;5;241m=\u001b[39m(\u001b[38;5;241m10\u001b[39m, \u001b[38;5;241m6\u001b[39m))\n\u001b[0;32m     17\u001b[0m ax\u001b[38;5;241m.\u001b[39mplot(x[mask], y[mask])\n\u001b[0;32m     18\u001b[0m plt\u001b[38;5;241m.\u001b[39mshow()\n",
          "\u001b[1;31mNameError\u001b[0m: name 'plt' is not defined"
         ]
        }
       ]
      }
     }
    },
    "version_major": 2,
    "version_minor": 0
   }
  }
 },
 "nbformat": 4,
 "nbformat_minor": 5
}
