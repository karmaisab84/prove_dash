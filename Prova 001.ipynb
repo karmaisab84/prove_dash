{
 "cells": [
  {
   "cell_type": "markdown",
   "id": "47bf30eb-b544-415a-91af-3ced6dfff7e8",
   "metadata": {},
   "source": [
    "### PROVA GRAFICI"
   ]
  },
  {
   "cell_type": "code",
   "execution_count": 8,
   "id": "9be3f2a2-69e9-4eeb-b8fd-58920004fa5e",
   "metadata": {},
   "outputs": [],
   "source": [
    "import pandas as pd\n",
    "import matplotlib.pyplot as plt"
   ]
  },
  {
   "cell_type": "code",
   "execution_count": 3,
   "id": "0bf4546e-ab08-4dcf-ab90-102db13c875f",
   "metadata": {},
   "outputs": [],
   "source": [
    "df = pd.read_csv('fortune500.csv')"
   ]
  },
  {
   "cell_type": "markdown",
   "id": "4016145a-5992-4ebd-a03a-eea5f3b9b44f",
   "metadata": {},
   "source": [
    "Le prime cique celle del database:\n",
    "* General Motors\n",
    "* Exxon Mobil\n",
    "* U.S. Steel\n",
    "* General Electric\n",
    "* Esmark"
   ]
  },
  {
   "cell_type": "code",
   "execution_count": 4,
   "id": "433d9055-a61e-405c-bb4c-d4e08434be67",
   "metadata": {},
   "outputs": [
    {
     "data": {
      "text/html": [
       "<div>\n",
       "<style scoped>\n",
       "    .dataframe tbody tr th:only-of-type {\n",
       "        vertical-align: middle;\n",
       "    }\n",
       "\n",
       "    .dataframe tbody tr th {\n",
       "        vertical-align: top;\n",
       "    }\n",
       "\n",
       "    .dataframe thead th {\n",
       "        text-align: right;\n",
       "    }\n",
       "</style>\n",
       "<table border=\"1\" class=\"dataframe\">\n",
       "  <thead>\n",
       "    <tr style=\"text-align: right;\">\n",
       "      <th></th>\n",
       "      <th>Year</th>\n",
       "      <th>Rank</th>\n",
       "      <th>Company</th>\n",
       "      <th>Revenue (in millions)</th>\n",
       "      <th>Profit (in millions)</th>\n",
       "    </tr>\n",
       "  </thead>\n",
       "  <tbody>\n",
       "    <tr>\n",
       "      <th>0</th>\n",
       "      <td>1955</td>\n",
       "      <td>1</td>\n",
       "      <td>General Motors</td>\n",
       "      <td>9823.5</td>\n",
       "      <td>806</td>\n",
       "    </tr>\n",
       "    <tr>\n",
       "      <th>1</th>\n",
       "      <td>1955</td>\n",
       "      <td>2</td>\n",
       "      <td>Exxon Mobil</td>\n",
       "      <td>5661.4</td>\n",
       "      <td>584.8</td>\n",
       "    </tr>\n",
       "    <tr>\n",
       "      <th>2</th>\n",
       "      <td>1955</td>\n",
       "      <td>3</td>\n",
       "      <td>U.S. Steel</td>\n",
       "      <td>3250.4</td>\n",
       "      <td>195.4</td>\n",
       "    </tr>\n",
       "    <tr>\n",
       "      <th>3</th>\n",
       "      <td>1955</td>\n",
       "      <td>4</td>\n",
       "      <td>General Electric</td>\n",
       "      <td>2959.1</td>\n",
       "      <td>212.6</td>\n",
       "    </tr>\n",
       "    <tr>\n",
       "      <th>4</th>\n",
       "      <td>1955</td>\n",
       "      <td>5</td>\n",
       "      <td>Esmark</td>\n",
       "      <td>2510.8</td>\n",
       "      <td>19.1</td>\n",
       "    </tr>\n",
       "  </tbody>\n",
       "</table>\n",
       "</div>"
      ],
      "text/plain": [
       "   Year  Rank           Company  Revenue (in millions) Profit (in millions)\n",
       "0  1955     1    General Motors                 9823.5                  806\n",
       "1  1955     2       Exxon Mobil                 5661.4                584.8\n",
       "2  1955     3        U.S. Steel                 3250.4                195.4\n",
       "3  1955     4  General Electric                 2959.1                212.6\n",
       "4  1955     5            Esmark                 2510.8                 19.1"
      ]
     },
     "execution_count": 4,
     "metadata": {},
     "output_type": "execute_result"
    }
   ],
   "source": [
    "df.head()"
   ]
  },
  {
   "cell_type": "code",
   "execution_count": 13,
   "id": "3d3db2c6-0896-4026-afa4-b4ca67674bfd",
   "metadata": {},
   "outputs": [
    {
     "data": {
      "text/plain": [
       "[<matplotlib.lines.Line2D at 0x2198fdb2550>]"
      ]
     },
     "execution_count": 13,
     "metadata": {},
     "output_type": "execute_result"
    },
    {
     "data": {
      "image/png": "[encoded data removed]",
      "text/plain": [
       "<Figure size 640x480 with 1 Axes>"
      ]
     },
     "metadata": {},
     "output_type": "display_data"
    }
   ],
   "source": [
    "plt.plot(df[df.Company == 'General Motors']['Revenue (in millions)'])"
   ]
  },
  {
   "cell_type": "code",
   "execution_count": 14,
   "id": "29a0d129-281a-4876-8ecc-f60955f81dc5",
   "metadata": {},
   "outputs": [
    {
     "name": "stdout",
     "output_type": "stream",
     "text": [
      "4 is ciaone 5\n"
     ]
    }
   ],
   "source": [
    "print('%d is ciaone %d' % (4, 5))"
   ]
  },
  {
   "cell_type": "code",
   "execution_count": 15,
   "id": "b2873a86-fd72-4b9d-9c1a-a0c14163ede9",
   "metadata": {},
   "outputs": [
    {
     "name": "stdout",
     "output_type": "stream",
     "text": [
      "Il numero è :455\n"
     ]
    }
   ],
   "source": [
    "a = 455\n",
    "print(f'Il numero è :{a}')"
   ]
  },
  {
   "cell_type": "code",
   "execution_count": 16,
   "id": "4f0d9d8f-e8af-41a8-b557-6983de495fd1",
   "metadata": {},
   "outputs": [
    {
     "name": "stdout",
     "output_type": "stream",
     "text": [
      "Il numero è 455\n"
     ]
    }
   ],
   "source": [
    "print(f'Il numero è {a}')\n"
   ]
  },
  {
   "cell_type": "code",
   "execution_count": 17,
   "id": "e4d0a7a7-639c-4609-af63-15c9df99d50b",
   "metadata": {},
   "outputs": [],
   "source": [
    "%matplotlib inline"
   ]
  },
  {
   "cell_type": "code",
   "execution_count": 18,
   "id": "a94e6d6b-bd62-48d2-8d88-2b2f8b07e57b",
   "metadata": {},
   "outputs": [
    {
     "data": {
      "text/plain": [
       "[<matplotlib.lines.Line2D at 0x2198feda3d0>]"
      ]
     },
     "execution_count": 18,
     "metadata": {},
     "output_type": "execute_result"
    },
    {
     "data": {
      "image/png": "[encoded data removed]",
      "text/plain": [
       "<Figure size 640x480 with 1 Axes>"
      ]
     },
     "metadata": {},
     "output_type": "display_data"
    }
   ],
   "source": [
    "plt.plot(df[df.Company == 'General Motors']['Revenue (in millions)'])"
   ]
  },
  {
   "cell_type": "code",
   "execution_count": 19,
   "id": "ec8137d0-30ca-459c-b227-f2b590237bba",
   "metadata": {},
   "outputs": [
    {
     "data": {
      "text/plain": [
       "<pandas.core.groupby.generic.DataFrameGroupBy object at 0x000002198FE0C310>"
      ]
     },
     "execution_count": 19,
     "metadata": {},
     "output_type": "execute_result"
    }
   ],
   "source": [
    "df.groupby(['Year'])\n"
   ]
  },
  {
   "cell_type": "code",
   "execution_count": 21,
   "id": "67ff568f-c699-4f1f-81d0-3a9100afb66c",
   "metadata": {},
   "outputs": [
    {
     "data": {
      "text/html": [
       "<div>\n",
       "<style scoped>\n",
       "    .dataframe tbody tr th:only-of-type {\n",
       "        vertical-align: middle;\n",
       "    }\n",
       "\n",
       "    .dataframe tbody tr th {\n",
       "        vertical-align: top;\n",
       "    }\n",
       "\n",
       "    .dataframe thead th {\n",
       "        text-align: right;\n",
       "    }\n",
       "</style>\n",
       "<table border=\"1\" class=\"dataframe\">\n",
       "  <thead>\n",
       "    <tr style=\"text-align: right;\">\n",
       "      <th></th>\n",
       "      <th>Rank</th>\n",
       "      <th>Company</th>\n",
       "      <th>Revenue (in millions)</th>\n",
       "      <th>Profit (in millions)</th>\n",
       "    </tr>\n",
       "    <tr>\n",
       "      <th>Year</th>\n",
       "      <th></th>\n",
       "      <th></th>\n",
       "      <th></th>\n",
       "      <th></th>\n",
       "    </tr>\n",
       "  </thead>\n",
       "  <tbody>\n",
       "    <tr>\n",
       "      <th>1955</th>\n",
       "      <td>125250</td>\n",
       "      <td>General MotorsExxon MobilU.S. SteelGeneral Ele...</td>\n",
       "      <td>136783.0</td>\n",
       "      <td>806584.8195.4212.619.118.51.6182.8183.8344.413...</td>\n",
       "    </tr>\n",
       "    <tr>\n",
       "      <th>1956</th>\n",
       "      <td>125250</td>\n",
       "      <td>General MotorsExxon MobilFord MotorU.S. SteelC...</td>\n",
       "      <td>161398.5</td>\n",
       "      <td>1189.5709.3437370.1100.1200.922.9180.210.1431....</td>\n",
       "    </tr>\n",
       "    <tr>\n",
       "      <th>1957</th>\n",
       "      <td>125250</td>\n",
       "      <td>General MotorsExxon MobilFord MotorU.S. SteelG...</td>\n",
       "      <td>174306.5</td>\n",
       "      <td>847.4808.5236.6348.1213.8249.5201481282.7161.4...</td>\n",
       "    </tr>\n",
       "    <tr>\n",
       "      <th>1958</th>\n",
       "      <td>125250</td>\n",
       "      <td>General MotorsExxon MobilFord MotorU.S. SteelG...</td>\n",
       "      <td>188312.2</td>\n",
       "      <td>843.6805.2282.8419.4247.9120220.4354.319113.58...</td>\n",
       "    </tr>\n",
       "    <tr>\n",
       "      <th>1959</th>\n",
       "      <td>125250</td>\n",
       "      <td>General MotorsExxon MobilFord MotorGeneral Ele...</td>\n",
       "      <td>176830.9</td>\n",
       "      <td>633.6562.595.7242.9301.6156.8329.510310.285.9-...</td>\n",
       "    </tr>\n",
       "    <tr>\n",
       "      <th>1960</th>\n",
       "      <td>125250</td>\n",
       "      <td>General MotorsExxon MobilFord MotorGeneral Ele...</td>\n",
       "      <td>197395.6</td>\n",
       "      <td>873.1629.8451.4280.2254.6164290.5354.3-5.419.1...</td>\n",
       "    </tr>\n",
       "    <tr>\n",
       "      <th>1961</th>\n",
       "      <td>125250</td>\n",
       "      <td>General MotorsExxon MobilFord MotorGeneral Ele...</td>\n",
       "      <td>204723.7</td>\n",
       "      <td>959688.6427.9200.1304.2182.632.2391.8330.3124....</td>\n",
       "    </tr>\n",
       "    <tr>\n",
       "      <th>1962</th>\n",
       "      <td>125250</td>\n",
       "      <td>General MotorsExxon MobilFord MotorGeneral Ele...</td>\n",
       "      <td>209194.3</td>\n",
       "      <td>892.8758.1409.6242.1211.3190.2430.1338.5122.21...</td>\n",
       "    </tr>\n",
       "    <tr>\n",
       "      <th>1963</th>\n",
       "      <td>125250</td>\n",
       "      <td>General MotorsExxon MobilFord MotorGeneral Ele...</td>\n",
       "      <td>229082.1</td>\n",
       "      <td>1459.1840.9480.7265.8242.3163.7481.7340.1135.2...</td>\n",
       "    </tr>\n",
       "    <tr>\n",
       "      <th>1964</th>\n",
       "      <td>125250</td>\n",
       "      <td>General MotorsExxon MobilFord MotorGeneral Ele...</td>\n",
       "      <td>245090.8</td>\n",
       "      <td>1591.81019.5488.5270.6271.9203.5161.6545.7371....</td>\n",
       "    </tr>\n",
       "    <tr>\n",
       "      <th>1965</th>\n",
       "      <td>125250</td>\n",
       "      <td>General MotorsExxon MobilFord MotorGeneral Ele...</td>\n",
       "      <td>266496.9</td>\n",
       "      <td>1734.81050.6505.6237.3294.2213.8236.8577.4431....</td>\n",
       "    </tr>\n",
       "    <tr>\n",
       "      <th>1966</th>\n",
       "      <td>125250</td>\n",
       "      <td>General MotorsFord MotorExxon MobilGeneral Ele...</td>\n",
       "      <td>298059.1</td>\n",
       "      <td>2125.67031035.7355.1233.4320.1275.5636.7476.94...</td>\n",
       "    </tr>\n",
       "    <tr>\n",
       "      <th>1967</th>\n",
       "      <td>125250</td>\n",
       "      <td>General MotorsFord MotorExxon MobilGeneral Ele...</td>\n",
       "      <td>332580.4</td>\n",
       "      <td>1793.46211090.9338.9189.2356.1709.9249.2526.15...</td>\n",
       "    </tr>\n",
       "    <tr>\n",
       "      <th>1968</th>\n",
       "      <td>125250</td>\n",
       "      <td>General MotorsExxon MobilFord MotorGeneral Ele...</td>\n",
       "      <td>358885.8</td>\n",
       "      <td>1627.31232.384.1361.4200.4385.4651.5754.4578.3...</td>\n",
       "    </tr>\n",
       "    <tr>\n",
       "      <th>1969</th>\n",
       "      <td>125250</td>\n",
       "      <td>General MotorsExxon MobilFord MotorGeneral Ele...</td>\n",
       "      <td>405273.2</td>\n",
       "      <td>1731.91276.7626.6357.1290.7871.5428.2835.5626....</td>\n",
       "    </tr>\n",
       "    <tr>\n",
       "      <th>1970</th>\n",
       "      <td>125250</td>\n",
       "      <td>General MotorsExxon MobilFord MotorGeneral Ele...</td>\n",
       "      <td>444718.2</td>\n",
       "      <td>1710.71047.6546.5278933.988.8434.5769.8234610....</td>\n",
       "    </tr>\n",
       "    <tr>\n",
       "      <th>1971</th>\n",
       "      <td>125250</td>\n",
       "      <td>General MotorsExxon MobilFord MotorGeneral Ele...</td>\n",
       "      <td>463927.9</td>\n",
       "      <td>609.11309.5515.7328.51017.5482.7-7.6353.382225...</td>\n",
       "    </tr>\n",
       "    <tr>\n",
       "      <th>1972</th>\n",
       "      <td>125250</td>\n",
       "      <td>General MotorsExxon MobilFord MotorGeneral Ele...</td>\n",
       "      <td>502898.6</td>\n",
       "      <td>1935.71461.6656.7471.81078.8540.883.7903.9336....</td>\n",
       "    </tr>\n",
       "    <tr>\n",
       "      <th>1973</th>\n",
       "      <td>125250</td>\n",
       "      <td>General MotorsExxon MobilFord MotorGeneral Ele...</td>\n",
       "      <td>557646.5</td>\n",
       "      <td>2162.81531.8870530220.51279.3574.2889483.3282....</td>\n",
       "    </tr>\n",
       "    <tr>\n",
       "      <th>1974</th>\n",
       "      <td>125250</td>\n",
       "      <td>General MotorsExxon MobilFord MotorChryslerGen...</td>\n",
       "      <td>667105.6</td>\n",
       "      <td>2398.12443.3906.5255.4585.11292.4849.31575.552...</td>\n",
       "    </tr>\n",
       "    <tr>\n",
       "      <th>1975</th>\n",
       "      <td>125250</td>\n",
       "      <td>Exxon MobilGeneral MotorsFord MotorTexacoMobil...</td>\n",
       "      <td>833089.0</td>\n",
       "      <td>3142.2950.1360.91586.41047.49701065608.11837.6...</td>\n",
       "    </tr>\n",
       "    <tr>\n",
       "      <th>1976</th>\n",
       "      <td>125250</td>\n",
       "      <td>Exxon MobilGeneral MotorsTexacoFord MotorMobil...</td>\n",
       "      <td>865234.8</td>\n",
       "      <td>25031253.1830.6322.7809.9772.51989.9700580.8-2...</td>\n",
       "    </tr>\n",
       "    <tr>\n",
       "      <th>1977</th>\n",
       "      <td>125250</td>\n",
       "      <td>Exxon MobilGeneral MotorsFord MotorTexacoMobil...</td>\n",
       "      <td>971137.9</td>\n",
       "      <td>26412902.8983.1869.7942.5880.18162398.1930.642...</td>\n",
       "    </tr>\n",
       "    <tr>\n",
       "      <th>1978</th>\n",
       "      <td>125250</td>\n",
       "      <td>General MotorsExxon MobilFord MotorMobilTexaco...</td>\n",
       "      <td>1086598.7</td>\n",
       "      <td>3337.524231672.81004.7930.81016.42719.47521088...</td>\n",
       "    </tr>\n",
       "    <tr>\n",
       "      <th>1979</th>\n",
       "      <td>125250</td>\n",
       "      <td>General MotorsExxon MobilFord MotorMobilTexaco...</td>\n",
       "      <td>1218696.4</td>\n",
       "      <td>350827631588.91125.6852.51105.93110.61229.7791...</td>\n",
       "    </tr>\n",
       "    <tr>\n",
       "      <th>1980</th>\n",
       "      <td>125250</td>\n",
       "      <td>Exxon MobilGeneral MotorsMobilFord MotorTexaco...</td>\n",
       "      <td>1445312.5</td>\n",
       "      <td>4295.22892.72007.21169.31759.11784.713223011.3...</td>\n",
       "    </tr>\n",
       "    <tr>\n",
       "      <th>1981</th>\n",
       "      <td>125250</td>\n",
       "      <td>Exxon MobilMobilGeneral MotorsTexacoChevronTex...</td>\n",
       "      <td>1650220.3</td>\n",
       "      <td>5650.13272-762.52642.52401-1543.3140735621915....</td>\n",
       "    </tr>\n",
       "    <tr>\n",
       "      <th>1982</th>\n",
       "      <td>125250</td>\n",
       "      <td>Exxon MobilMobilGeneral MotorsTexacoChevronTex...</td>\n",
       "      <td>1773356.7</td>\n",
       "      <td>5567.52433333.423102380-1060.11922330812311671...</td>\n",
       "    </tr>\n",
       "    <tr>\n",
       "      <th>1983</th>\n",
       "      <td>125250</td>\n",
       "      <td>Exxon MobilGeneral MotorsMobilTexacoFord Motor...</td>\n",
       "      <td>1672219.5</td>\n",
       "      <td>4185.9962.713801281-657.8440913778949001826181...</td>\n",
       "    </tr>\n",
       "    <tr>\n",
       "      <th>1984</th>\n",
       "      <td>125250</td>\n",
       "      <td>Exxon MobilGeneral MotorsMobilFord MotorIntl. ...</td>\n",
       "      <td>1686697.3</td>\n",
       "      <td>49783730.215031866.954851233112718681590202497...</td>\n",
       "    </tr>\n",
       "    <tr>\n",
       "      <th>1985</th>\n",
       "      <td>125250</td>\n",
       "      <td>Exxon MobilGeneral MotorsMobilFord MotorTexaco...</td>\n",
       "      <td>1758654.8</td>\n",
       "      <td>55284516.512682906.8306658214311369.9228021831...</td>\n",
       "    </tr>\n",
       "    <tr>\n",
       "      <th>1986</th>\n",
       "      <td>125250</td>\n",
       "      <td>General MotorsExxon MobilMobilFord MotorIntl. ...</td>\n",
       "      <td>1807068.2</td>\n",
       "      <td>3999487010402515.4655512331547.41556.811182336...</td>\n",
       "    </tr>\n",
       "    <tr>\n",
       "      <th>1987</th>\n",
       "      <td>125250</td>\n",
       "      <td>General MotorsExxon MobilFord MotorIntl. Busin...</td>\n",
       "      <td>1723639.0</td>\n",
       "      <td>2944.753603285.147891407249213972515387151403....</td>\n",
       "    </tr>\n",
       "    <tr>\n",
       "      <th>1988</th>\n",
       "      <td>125250</td>\n",
       "      <td>General MotorsExxon MobilFord MotorIntl. Busin...</td>\n",
       "      <td>1879500.0</td>\n",
       "      <td>355148404625525812582915-440720441786129010071...</td>\n",
       "    </tr>\n",
       "    <tr>\n",
       "      <th>1989</th>\n",
       "      <td>125250</td>\n",
       "      <td>General MotorsFord MotorExxon MobilIntl. Busin...</td>\n",
       "      <td>2023155.0</td>\n",
       "      <td>4856530052605806338620871050130421902337176820...</td>\n",
       "    </tr>\n",
       "    <tr>\n",
       "      <th>1990</th>\n",
       "      <td>125250</td>\n",
       "      <td>General MotorsFord MotorExxon MobilIntl. Busin...</td>\n",
       "      <td>2164856.5</td>\n",
       "      <td>4224.33835351037583939180929463592480241325116...</td>\n",
       "    </tr>\n",
       "    <tr>\n",
       "      <th>1991</th>\n",
       "      <td>125250</td>\n",
       "      <td>General MotorsExxon MobilFord MotorIntl. Busin...</td>\n",
       "      <td>2303272.2</td>\n",
       "      <td>-1985.75010860.1602019294303354014502310215768...</td>\n",
       "    </tr>\n",
       "    <tr>\n",
       "      <th>1992</th>\n",
       "      <td>125250</td>\n",
       "      <td>General MotorsExxon MobilFord MotorIntl. Busin...</td>\n",
       "      <td>2263925.5</td>\n",
       "      <td>-4452.85600-2258-2827263619203006140312941293-...</td>\n",
       "    </tr>\n",
       "    <tr>\n",
       "      <th>1993</th>\n",
       "      <td>125250</td>\n",
       "      <td>General MotorsExxon MobilFord MotorIntl. Busin...</td>\n",
       "      <td>2365498.5</td>\n",
       "      <td>-23498.34770-7385-4965472586249391569-39277127...</td>\n",
       "    </tr>\n",
       "    <tr>\n",
       "      <th>1994</th>\n",
       "      <td>125250</td>\n",
       "      <td>General MotorsFord MotorExxon MobilIntl. Busin...</td>\n",
       "      <td>2370164.3</td>\n",
       "      <td>2465.825295280-8101431520843091-25511068555126...</td>\n",
       "    </tr>\n",
       "    <tr>\n",
       "      <th>1995</th>\n",
       "      <td>125250</td>\n",
       "      <td>General MotorsFord MotorExxon MobilWal-Mart St...</td>\n",
       "      <td>4267468.7</td>\n",
       "      <td>4900.65308510026814676472630211079145447253713...</td>\n",
       "    </tr>\n",
       "    <tr>\n",
       "      <th>1996</th>\n",
       "      <td>125250</td>\n",
       "      <td>General MotorsFord MotorExxon MobilWal-Mart St...</td>\n",
       "      <td>4690323.5</td>\n",
       "      <td>6880.74139647027401394178657323762025545057912...</td>\n",
       "    </tr>\n",
       "    <tr>\n",
       "      <th>1997</th>\n",
       "      <td>125250</td>\n",
       "      <td>General MotorsFord MotorExxon MobilWal-Mart St...</td>\n",
       "      <td>5077371.2</td>\n",
       "      <td>4963444675103056728054295908296435296303201825...</td>\n",
       "    </tr>\n",
       "    <tr>\n",
       "      <th>1998</th>\n",
       "      <td>125250</td>\n",
       "      <td>General MotorsFord MotorExxon MobilWal-Mart St...</td>\n",
       "      <td>5518510.4</td>\n",
       "      <td>6698692084603526820360932805327263104638-17826...</td>\n",
       "    </tr>\n",
       "    <tr>\n",
       "      <th>1999</th>\n",
       "      <td>125250</td>\n",
       "      <td>General MotorsFord MotorWal-Mart StoresExxon M...</td>\n",
       "      <td>5738102.9</td>\n",
       "      <td>2956220714430637092966328580753721120639851651...</td>\n",
       "    </tr>\n",
       "    <tr>\n",
       "      <th>2000</th>\n",
       "      <td>125249</td>\n",
       "      <td>General MotorsWal-Mart StoresExxon MobilFord M...</td>\n",
       "      <td>6324960.8</td>\n",
       "      <td>6002537779107237107177712986734287675230978828...</td>\n",
       "    </tr>\n",
       "    <tr>\n",
       "      <th>2001</th>\n",
       "      <td>125249</td>\n",
       "      <td>Exxon MobilWal-Mart StoresGeneral MotorsFord M...</td>\n",
       "      <td>7180879.7</td>\n",
       "      <td>1772062954452346712735135199798093466911797851...</td>\n",
       "    </tr>\n",
       "    <tr>\n",
       "      <th>2002</th>\n",
       "      <td>125249</td>\n",
       "      <td>Wal-Mart StoresExxon MobilGeneral MotorsFord M...</td>\n",
       "      <td>7420326.2</td>\n",
       "      <td>667115320601-5453N.A.1368414126328877238560389...</td>\n",
       "    </tr>\n",
       "    <tr>\n",
       "      <th>2003</th>\n",
       "      <td>125248</td>\n",
       "      <td>Wal-Mart StoresGeneral MotorsExxon MobilFord M...</td>\n",
       "      <td>6955711.3</td>\n",
       "      <td>8039173611460-9801411815276113235795518.940791...</td>\n",
       "    </tr>\n",
       "    <tr>\n",
       "      <th>2004</th>\n",
       "      <td>125249</td>\n",
       "      <td>Wal-Mart StoresExxon MobilGeneral MotorsFord M...</td>\n",
       "      <td>7465268.5</td>\n",
       "      <td>905421510382249515002723047351785375839274.225...</td>\n",
       "    </tr>\n",
       "    <tr>\n",
       "      <th>2005</th>\n",
       "      <td>125250</td>\n",
       "      <td>Wal-Mart StoresExxon MobilGeneral MotorsFord M...</td>\n",
       "      <td>8247975.6</td>\n",
       "      <td>1026725330280534871659313328812917046110508430...</td>\n",
       "    </tr>\n",
       "  </tbody>\n",
       "</table>\n",
       "</div>"
      ],
      "text/plain": [
       "        Rank                                            Company  \\\n",
       "Year                                                              \n",
       "1955  125250  General MotorsExxon MobilU.S. SteelGeneral Ele...   \n",
       "1956  125250  General MotorsExxon MobilFord MotorU.S. SteelC...   \n",
       "1957  125250  General MotorsExxon MobilFord MotorU.S. SteelG...   \n",
       "1958  125250  General MotorsExxon MobilFord MotorU.S. SteelG...   \n",
       "1959  125250  General MotorsExxon MobilFord MotorGeneral Ele...   \n",
       "1960  125250  General MotorsExxon MobilFord MotorGeneral Ele...   \n",
       "1961  125250  General MotorsExxon MobilFord MotorGeneral Ele...   \n",
       "1962  125250  General MotorsExxon MobilFord MotorGeneral Ele...   \n",
       "1963  125250  General MotorsExxon MobilFord MotorGeneral Ele...   \n",
       "1964  125250  General MotorsExxon MobilFord MotorGeneral Ele...   \n",
       "1965  125250  General MotorsExxon MobilFord MotorGeneral Ele...   \n",
       "1966  125250  General MotorsFord MotorExxon MobilGeneral Ele...   \n",
       "1967  125250  General MotorsFord MotorExxon MobilGeneral Ele...   \n",
       "1968  125250  General MotorsExxon MobilFord MotorGeneral Ele...   \n",
       "1969  125250  General MotorsExxon MobilFord MotorGeneral Ele...   \n",
       "1970  125250  General MotorsExxon MobilFord MotorGeneral Ele...   \n",
       "1971  125250  General MotorsExxon MobilFord MotorGeneral Ele...   \n",
       "1972  125250  General MotorsExxon MobilFord MotorGeneral Ele...   \n",
       "1973  125250  General MotorsExxon MobilFord MotorGeneral Ele...   \n",
       "1974  125250  General MotorsExxon MobilFord MotorChryslerGen...   \n",
       "1975  125250  Exxon MobilGeneral MotorsFord MotorTexacoMobil...   \n",
       "1976  125250  Exxon MobilGeneral MotorsTexacoFord MotorMobil...   \n",
       "1977  125250  Exxon MobilGeneral MotorsFord MotorTexacoMobil...   \n",
       "1978  125250  General MotorsExxon MobilFord MotorMobilTexaco...   \n",
       "1979  125250  General MotorsExxon MobilFord MotorMobilTexaco...   \n",
       "1980  125250  Exxon MobilGeneral MotorsMobilFord MotorTexaco...   \n",
       "1981  125250  Exxon MobilMobilGeneral MotorsTexacoChevronTex...   \n",
       "1982  125250  Exxon MobilMobilGeneral MotorsTexacoChevronTex...   \n",
       "1983  125250  Exxon MobilGeneral MotorsMobilTexacoFord Motor...   \n",
       "1984  125250  Exxon MobilGeneral MotorsMobilFord MotorIntl. ...   \n",
       "1985  125250  Exxon MobilGeneral MotorsMobilFord MotorTexaco...   \n",
       "1986  125250  General MotorsExxon MobilMobilFord MotorIntl. ...   \n",
       "1987  125250  General MotorsExxon MobilFord MotorIntl. Busin...   \n",
       "1988  125250  General MotorsExxon MobilFord MotorIntl. Busin...   \n",
       "1989  125250  General MotorsFord MotorExxon MobilIntl. Busin...   \n",
       "1990  125250  General MotorsFord MotorExxon MobilIntl. Busin...   \n",
       "1991  125250  General MotorsExxon MobilFord MotorIntl. Busin...   \n",
       "1992  125250  General MotorsExxon MobilFord MotorIntl. Busin...   \n",
       "1993  125250  General MotorsExxon MobilFord MotorIntl. Busin...   \n",
       "1994  125250  General MotorsFord MotorExxon MobilIntl. Busin...   \n",
       "1995  125250  General MotorsFord MotorExxon MobilWal-Mart St...   \n",
       "1996  125250  General MotorsFord MotorExxon MobilWal-Mart St...   \n",
       "1997  125250  General MotorsFord MotorExxon MobilWal-Mart St...   \n",
       "1998  125250  General MotorsFord MotorExxon MobilWal-Mart St...   \n",
       "1999  125250  General MotorsFord MotorWal-Mart StoresExxon M...   \n",
       "2000  125249  General MotorsWal-Mart StoresExxon MobilFord M...   \n",
       "2001  125249  Exxon MobilWal-Mart StoresGeneral MotorsFord M...   \n",
       "2002  125249  Wal-Mart StoresExxon MobilGeneral MotorsFord M...   \n",
       "2003  125248  Wal-Mart StoresGeneral MotorsExxon MobilFord M...   \n",
       "2004  125249  Wal-Mart StoresExxon MobilGeneral MotorsFord M...   \n",
       "2005  125250  Wal-Mart StoresExxon MobilGeneral MotorsFord M...   \n",
       "\n",
       "      Revenue (in millions)                               Profit (in millions)  \n",
       "Year                                                                            \n",
       "1955               136783.0  806584.8195.4212.619.118.51.6182.8183.8344.413...  \n",
       "1956               161398.5  1189.5709.3437370.1100.1200.922.9180.210.1431....  \n",
       "1957               174306.5  847.4808.5236.6348.1213.8249.5201481282.7161.4...  \n",
       "1958               188312.2  843.6805.2282.8419.4247.9120220.4354.319113.58...  \n",
       "1959               176830.9  633.6562.595.7242.9301.6156.8329.510310.285.9-...  \n",
       "1960               197395.6  873.1629.8451.4280.2254.6164290.5354.3-5.419.1...  \n",
       "1961               204723.7  959688.6427.9200.1304.2182.632.2391.8330.3124....  \n",
       "1962               209194.3  892.8758.1409.6242.1211.3190.2430.1338.5122.21...  \n",
       "1963               229082.1  1459.1840.9480.7265.8242.3163.7481.7340.1135.2...  \n",
       "1964               245090.8  1591.81019.5488.5270.6271.9203.5161.6545.7371....  \n",
       "1965               266496.9  1734.81050.6505.6237.3294.2213.8236.8577.4431....  \n",
       "1966               298059.1  2125.67031035.7355.1233.4320.1275.5636.7476.94...  \n",
       "1967               332580.4  1793.46211090.9338.9189.2356.1709.9249.2526.15...  \n",
       "1968               358885.8  1627.31232.384.1361.4200.4385.4651.5754.4578.3...  \n",
       "1969               405273.2  1731.91276.7626.6357.1290.7871.5428.2835.5626....  \n",
       "1970               444718.2  1710.71047.6546.5278933.988.8434.5769.8234610....  \n",
       "1971               463927.9  609.11309.5515.7328.51017.5482.7-7.6353.382225...  \n",
       "1972               502898.6  1935.71461.6656.7471.81078.8540.883.7903.9336....  \n",
       "1973               557646.5  2162.81531.8870530220.51279.3574.2889483.3282....  \n",
       "1974               667105.6  2398.12443.3906.5255.4585.11292.4849.31575.552...  \n",
       "1975               833089.0  3142.2950.1360.91586.41047.49701065608.11837.6...  \n",
       "1976               865234.8  25031253.1830.6322.7809.9772.51989.9700580.8-2...  \n",
       "1977               971137.9  26412902.8983.1869.7942.5880.18162398.1930.642...  \n",
       "1978              1086598.7  3337.524231672.81004.7930.81016.42719.47521088...  \n",
       "1979              1218696.4  350827631588.91125.6852.51105.93110.61229.7791...  \n",
       "1980              1445312.5  4295.22892.72007.21169.31759.11784.713223011.3...  \n",
       "1981              1650220.3  5650.13272-762.52642.52401-1543.3140735621915....  \n",
       "1982              1773356.7  5567.52433333.423102380-1060.11922330812311671...  \n",
       "1983              1672219.5  4185.9962.713801281-657.8440913778949001826181...  \n",
       "1984              1686697.3  49783730.215031866.954851233112718681590202497...  \n",
       "1985              1758654.8  55284516.512682906.8306658214311369.9228021831...  \n",
       "1986              1807068.2  3999487010402515.4655512331547.41556.811182336...  \n",
       "1987              1723639.0  2944.753603285.147891407249213972515387151403....  \n",
       "1988              1879500.0  355148404625525812582915-440720441786129010071...  \n",
       "1989              2023155.0  4856530052605806338620871050130421902337176820...  \n",
       "1990              2164856.5  4224.33835351037583939180929463592480241325116...  \n",
       "1991              2303272.2  -1985.75010860.1602019294303354014502310215768...  \n",
       "1992              2263925.5  -4452.85600-2258-2827263619203006140312941293-...  \n",
       "1993              2365498.5  -23498.34770-7385-4965472586249391569-39277127...  \n",
       "1994              2370164.3  2465.825295280-8101431520843091-25511068555126...  \n",
       "1995              4267468.7  4900.65308510026814676472630211079145447253713...  \n",
       "1996              4690323.5  6880.74139647027401394178657323762025545057912...  \n",
       "1997              5077371.2  4963444675103056728054295908296435296303201825...  \n",
       "1998              5518510.4  6698692084603526820360932805327263104638-17826...  \n",
       "1999              5738102.9  2956220714430637092966328580753721120639851651...  \n",
       "2000              6324960.8  6002537779107237107177712986734287675230978828...  \n",
       "2001              7180879.7  1772062954452346712735135199798093466911797851...  \n",
       "2002              7420326.2  667115320601-5453N.A.1368414126328877238560389...  \n",
       "2003              6955711.3  8039173611460-9801411815276113235795518.940791...  \n",
       "2004              7465268.5  905421510382249515002723047351785375839274.225...  \n",
       "2005              8247975.6  1026725330280534871659313328812917046110508430...  "
      ]
     },
     "execution_count": 21,
     "metadata": {},
     "output_type": "execute_result"
    }
   ],
   "source": [
    "df.groupby(['Year']).sum()"
   ]
  },
  {
   "cell_type": "code",
   "execution_count": 27,
   "id": "11543b90-a7b6-41b1-bd97-9772a9a16880",
   "metadata": {},
   "outputs": [
    {
     "data": {
      "text/plain": [
       "Index(['Year', 'Rank', 'Company', 'Revenue (in millions)',\n",
       "       'Profit (in millions)'],\n",
       "      dtype='object')"
      ]
     },
     "execution_count": 27,
     "metadata": {},
     "output_type": "execute_result"
    }
   ],
   "source": [
    "df.columns"
   ]
  },
  {
   "cell_type": "code",
   "execution_count": 28,
   "id": "233efe84-d01b-4671-b14e-0b993d4e2198",
   "metadata": {},
   "outputs": [],
   "source": [
    "df.columns = ['year', 'rank', 'company', 'revenue',\n",
    "       'profit']"
   ]
  },
  {
   "cell_type": "code",
   "execution_count": 34,
   "id": "8ca309cf-6e1a-4e76-ada3-6438aba04a02",
   "metadata": {},
   "outputs": [
    {
     "data": {
      "text/html": [
       "<div>\n",
       "<style scoped>\n",
       "    .dataframe tbody tr th:only-of-type {\n",
       "        vertical-align: middle;\n",
       "    }\n",
       "\n",
       "    .dataframe tbody tr th {\n",
       "        vertical-align: top;\n",
       "    }\n",
       "\n",
       "    .dataframe thead th {\n",
       "        text-align: right;\n",
       "    }\n",
       "</style>\n",
       "<table border=\"1\" class=\"dataframe\">\n",
       "  <thead>\n",
       "    <tr style=\"text-align: right;\">\n",
       "      <th></th>\n",
       "      <th>year</th>\n",
       "      <th>revenue</th>\n",
       "      <th>profit</th>\n",
       "    </tr>\n",
       "  </thead>\n",
       "  <tbody>\n",
       "    <tr>\n",
       "      <th>0</th>\n",
       "      <td>1955</td>\n",
       "      <td>9823.5</td>\n",
       "      <td>806</td>\n",
       "    </tr>\n",
       "    <tr>\n",
       "      <th>1</th>\n",
       "      <td>1955</td>\n",
       "      <td>5661.4</td>\n",
       "      <td>584.8</td>\n",
       "    </tr>\n",
       "    <tr>\n",
       "      <th>2</th>\n",
       "      <td>1955</td>\n",
       "      <td>3250.4</td>\n",
       "      <td>195.4</td>\n",
       "    </tr>\n",
       "    <tr>\n",
       "      <th>3</th>\n",
       "      <td>1955</td>\n",
       "      <td>2959.1</td>\n",
       "      <td>212.6</td>\n",
       "    </tr>\n",
       "    <tr>\n",
       "      <th>4</th>\n",
       "      <td>1955</td>\n",
       "      <td>2510.8</td>\n",
       "      <td>19.1</td>\n",
       "    </tr>\n",
       "    <tr>\n",
       "      <th>...</th>\n",
       "      <td>...</td>\n",
       "      <td>...</td>\n",
       "      <td>...</td>\n",
       "    </tr>\n",
       "    <tr>\n",
       "      <th>25495</th>\n",
       "      <td>2005</td>\n",
       "      <td>3648.6</td>\n",
       "      <td>493</td>\n",
       "    </tr>\n",
       "    <tr>\n",
       "      <th>25496</th>\n",
       "      <td>2005</td>\n",
       "      <td>3631.6</td>\n",
       "      <td>175.4</td>\n",
       "    </tr>\n",
       "    <tr>\n",
       "      <th>25497</th>\n",
       "      <td>2005</td>\n",
       "      <td>3630.4</td>\n",
       "      <td>57.8</td>\n",
       "    </tr>\n",
       "    <tr>\n",
       "      <th>25498</th>\n",
       "      <td>2005</td>\n",
       "      <td>3616.6</td>\n",
       "      <td>70.6</td>\n",
       "    </tr>\n",
       "    <tr>\n",
       "      <th>25499</th>\n",
       "      <td>2005</td>\n",
       "      <td>3614.0</td>\n",
       "      <td>584</td>\n",
       "    </tr>\n",
       "  </tbody>\n",
       "</table>\n",
       "<p>25500 rows × 3 columns</p>\n",
       "</div>"
      ],
      "text/plain": [
       "       year  revenue profit\n",
       "0      1955   9823.5    806\n",
       "1      1955   5661.4  584.8\n",
       "2      1955   3250.4  195.4\n",
       "3      1955   2959.1  212.6\n",
       "4      1955   2510.8   19.1\n",
       "...     ...      ...    ...\n",
       "25495  2005   3648.6    493\n",
       "25496  2005   3631.6  175.4\n",
       "25497  2005   3630.4   57.8\n",
       "25498  2005   3616.6   70.6\n",
       "25499  2005   3614.0    584\n",
       "\n",
       "[25500 rows x 3 columns]"
      ]
     },
     "execution_count": 34,
     "metadata": {},
     "output_type": "execute_result"
    }
   ],
   "source": [
    " df[['year', 'revenue', 'profit']]"
   ]
  },
  {
   "cell_type": "code",
   "execution_count": 35,
   "id": "0bfb33f1-32d6-4317-a755-4f1a960da9f0",
   "metadata": {},
   "outputs": [
    {
     "data": {
      "text/plain": [
       "<pandas.core.groupby.generic.DataFrameGroupBy object at 0x000002198FEAF110>"
      ]
     },
     "execution_count": 35,
     "metadata": {},
     "output_type": "execute_result"
    }
   ],
   "source": [
    "df[['year', 'revenue', 'profit']].groupby(['year'])"
   ]
  },
  {
   "cell_type": "code",
   "execution_count": 36,
   "id": "194eae69-a79e-4c39-91f5-a1b7a79621c2",
   "metadata": {},
   "outputs": [
    {
     "data": {
      "text/html": [
       "<div>\n",
       "<style scoped>\n",
       "    .dataframe tbody tr th:only-of-type {\n",
       "        vertical-align: middle;\n",
       "    }\n",
       "\n",
       "    .dataframe tbody tr th {\n",
       "        vertical-align: top;\n",
       "    }\n",
       "\n",
       "    .dataframe thead th {\n",
       "        text-align: right;\n",
       "    }\n",
       "</style>\n",
       "<table border=\"1\" class=\"dataframe\">\n",
       "  <thead>\n",
       "    <tr style=\"text-align: right;\">\n",
       "      <th></th>\n",
       "      <th>revenue</th>\n",
       "      <th>profit</th>\n",
       "    </tr>\n",
       "    <tr>\n",
       "      <th>year</th>\n",
       "      <th></th>\n",
       "      <th></th>\n",
       "    </tr>\n",
       "  </thead>\n",
       "  <tbody>\n",
       "    <tr>\n",
       "      <th>1955</th>\n",
       "      <td>136783.0</td>\n",
       "      <td>806584.8195.4212.619.118.51.6182.8183.8344.413...</td>\n",
       "    </tr>\n",
       "    <tr>\n",
       "      <th>1956</th>\n",
       "      <td>161398.5</td>\n",
       "      <td>1189.5709.3437370.1100.1200.922.9180.210.1431....</td>\n",
       "    </tr>\n",
       "    <tr>\n",
       "      <th>1957</th>\n",
       "      <td>174306.5</td>\n",
       "      <td>847.4808.5236.6348.1213.8249.5201481282.7161.4...</td>\n",
       "    </tr>\n",
       "    <tr>\n",
       "      <th>1958</th>\n",
       "      <td>188312.2</td>\n",
       "      <td>843.6805.2282.8419.4247.9120220.4354.319113.58...</td>\n",
       "    </tr>\n",
       "    <tr>\n",
       "      <th>1959</th>\n",
       "      <td>176830.9</td>\n",
       "      <td>633.6562.595.7242.9301.6156.8329.510310.285.9-...</td>\n",
       "    </tr>\n",
       "    <tr>\n",
       "      <th>1960</th>\n",
       "      <td>197395.6</td>\n",
       "      <td>873.1629.8451.4280.2254.6164290.5354.3-5.419.1...</td>\n",
       "    </tr>\n",
       "    <tr>\n",
       "      <th>1961</th>\n",
       "      <td>204723.7</td>\n",
       "      <td>959688.6427.9200.1304.2182.632.2391.8330.3124....</td>\n",
       "    </tr>\n",
       "    <tr>\n",
       "      <th>1962</th>\n",
       "      <td>209194.3</td>\n",
       "      <td>892.8758.1409.6242.1211.3190.2430.1338.5122.21...</td>\n",
       "    </tr>\n",
       "    <tr>\n",
       "      <th>1963</th>\n",
       "      <td>229082.1</td>\n",
       "      <td>1459.1840.9480.7265.8242.3163.7481.7340.1135.2...</td>\n",
       "    </tr>\n",
       "    <tr>\n",
       "      <th>1964</th>\n",
       "      <td>245090.8</td>\n",
       "      <td>1591.81019.5488.5270.6271.9203.5161.6545.7371....</td>\n",
       "    </tr>\n",
       "    <tr>\n",
       "      <th>1965</th>\n",
       "      <td>266496.9</td>\n",
       "      <td>1734.81050.6505.6237.3294.2213.8236.8577.4431....</td>\n",
       "    </tr>\n",
       "    <tr>\n",
       "      <th>1966</th>\n",
       "      <td>298059.1</td>\n",
       "      <td>2125.67031035.7355.1233.4320.1275.5636.7476.94...</td>\n",
       "    </tr>\n",
       "    <tr>\n",
       "      <th>1967</th>\n",
       "      <td>332580.4</td>\n",
       "      <td>1793.46211090.9338.9189.2356.1709.9249.2526.15...</td>\n",
       "    </tr>\n",
       "    <tr>\n",
       "      <th>1968</th>\n",
       "      <td>358885.8</td>\n",
       "      <td>1627.31232.384.1361.4200.4385.4651.5754.4578.3...</td>\n",
       "    </tr>\n",
       "    <tr>\n",
       "      <th>1969</th>\n",
       "      <td>405273.2</td>\n",
       "      <td>1731.91276.7626.6357.1290.7871.5428.2835.5626....</td>\n",
       "    </tr>\n",
       "    <tr>\n",
       "      <th>1970</th>\n",
       "      <td>444718.2</td>\n",
       "      <td>1710.71047.6546.5278933.988.8434.5769.8234610....</td>\n",
       "    </tr>\n",
       "    <tr>\n",
       "      <th>1971</th>\n",
       "      <td>463927.9</td>\n",
       "      <td>609.11309.5515.7328.51017.5482.7-7.6353.382225...</td>\n",
       "    </tr>\n",
       "    <tr>\n",
       "      <th>1972</th>\n",
       "      <td>502898.6</td>\n",
       "      <td>1935.71461.6656.7471.81078.8540.883.7903.9336....</td>\n",
       "    </tr>\n",
       "    <tr>\n",
       "      <th>1973</th>\n",
       "      <td>557646.5</td>\n",
       "      <td>2162.81531.8870530220.51279.3574.2889483.3282....</td>\n",
       "    </tr>\n",
       "    <tr>\n",
       "      <th>1974</th>\n",
       "      <td>667105.6</td>\n",
       "      <td>2398.12443.3906.5255.4585.11292.4849.31575.552...</td>\n",
       "    </tr>\n",
       "    <tr>\n",
       "      <th>1975</th>\n",
       "      <td>833089.0</td>\n",
       "      <td>3142.2950.1360.91586.41047.49701065608.11837.6...</td>\n",
       "    </tr>\n",
       "    <tr>\n",
       "      <th>1976</th>\n",
       "      <td>865234.8</td>\n",
       "      <td>25031253.1830.6322.7809.9772.51989.9700580.8-2...</td>\n",
       "    </tr>\n",
       "    <tr>\n",
       "      <th>1977</th>\n",
       "      <td>971137.9</td>\n",
       "      <td>26412902.8983.1869.7942.5880.18162398.1930.642...</td>\n",
       "    </tr>\n",
       "    <tr>\n",
       "      <th>1978</th>\n",
       "      <td>1086598.7</td>\n",
       "      <td>3337.524231672.81004.7930.81016.42719.47521088...</td>\n",
       "    </tr>\n",
       "    <tr>\n",
       "      <th>1979</th>\n",
       "      <td>1218696.4</td>\n",
       "      <td>350827631588.91125.6852.51105.93110.61229.7791...</td>\n",
       "    </tr>\n",
       "    <tr>\n",
       "      <th>1980</th>\n",
       "      <td>1445312.5</td>\n",
       "      <td>4295.22892.72007.21169.31759.11784.713223011.3...</td>\n",
       "    </tr>\n",
       "    <tr>\n",
       "      <th>1981</th>\n",
       "      <td>1650220.3</td>\n",
       "      <td>5650.13272-762.52642.52401-1543.3140735621915....</td>\n",
       "    </tr>\n",
       "    <tr>\n",
       "      <th>1982</th>\n",
       "      <td>1773356.7</td>\n",
       "      <td>5567.52433333.423102380-1060.11922330812311671...</td>\n",
       "    </tr>\n",
       "    <tr>\n",
       "      <th>1983</th>\n",
       "      <td>1672219.5</td>\n",
       "      <td>4185.9962.713801281-657.8440913778949001826181...</td>\n",
       "    </tr>\n",
       "    <tr>\n",
       "      <th>1984</th>\n",
       "      <td>1686697.3</td>\n",
       "      <td>49783730.215031866.954851233112718681590202497...</td>\n",
       "    </tr>\n",
       "    <tr>\n",
       "      <th>1985</th>\n",
       "      <td>1758654.8</td>\n",
       "      <td>55284516.512682906.8306658214311369.9228021831...</td>\n",
       "    </tr>\n",
       "    <tr>\n",
       "      <th>1986</th>\n",
       "      <td>1807068.2</td>\n",
       "      <td>3999487010402515.4655512331547.41556.811182336...</td>\n",
       "    </tr>\n",
       "    <tr>\n",
       "      <th>1987</th>\n",
       "      <td>1723639.0</td>\n",
       "      <td>2944.753603285.147891407249213972515387151403....</td>\n",
       "    </tr>\n",
       "    <tr>\n",
       "      <th>1988</th>\n",
       "      <td>1879500.0</td>\n",
       "      <td>355148404625525812582915-440720441786129010071...</td>\n",
       "    </tr>\n",
       "    <tr>\n",
       "      <th>1989</th>\n",
       "      <td>2023155.0</td>\n",
       "      <td>4856530052605806338620871050130421902337176820...</td>\n",
       "    </tr>\n",
       "    <tr>\n",
       "      <th>1990</th>\n",
       "      <td>2164856.5</td>\n",
       "      <td>4224.33835351037583939180929463592480241325116...</td>\n",
       "    </tr>\n",
       "    <tr>\n",
       "      <th>1991</th>\n",
       "      <td>2303272.2</td>\n",
       "      <td>-1985.75010860.1602019294303354014502310215768...</td>\n",
       "    </tr>\n",
       "    <tr>\n",
       "      <th>1992</th>\n",
       "      <td>2263925.5</td>\n",
       "      <td>-4452.85600-2258-2827263619203006140312941293-...</td>\n",
       "    </tr>\n",
       "    <tr>\n",
       "      <th>1993</th>\n",
       "      <td>2365498.5</td>\n",
       "      <td>-23498.34770-7385-4965472586249391569-39277127...</td>\n",
       "    </tr>\n",
       "    <tr>\n",
       "      <th>1994</th>\n",
       "      <td>2370164.3</td>\n",
       "      <td>2465.825295280-8101431520843091-25511068555126...</td>\n",
       "    </tr>\n",
       "    <tr>\n",
       "      <th>1995</th>\n",
       "      <td>4267468.7</td>\n",
       "      <td>4900.65308510026814676472630211079145447253713...</td>\n",
       "    </tr>\n",
       "    <tr>\n",
       "      <th>1996</th>\n",
       "      <td>4690323.5</td>\n",
       "      <td>6880.74139647027401394178657323762025545057912...</td>\n",
       "    </tr>\n",
       "    <tr>\n",
       "      <th>1997</th>\n",
       "      <td>5077371.2</td>\n",
       "      <td>4963444675103056728054295908296435296303201825...</td>\n",
       "    </tr>\n",
       "    <tr>\n",
       "      <th>1998</th>\n",
       "      <td>5518510.4</td>\n",
       "      <td>6698692084603526820360932805327263104638-17826...</td>\n",
       "    </tr>\n",
       "    <tr>\n",
       "      <th>1999</th>\n",
       "      <td>5738102.9</td>\n",
       "      <td>2956220714430637092966328580753721120639851651...</td>\n",
       "    </tr>\n",
       "    <tr>\n",
       "      <th>2000</th>\n",
       "      <td>6324960.8</td>\n",
       "      <td>6002537779107237107177712986734287675230978828...</td>\n",
       "    </tr>\n",
       "    <tr>\n",
       "      <th>2001</th>\n",
       "      <td>7180879.7</td>\n",
       "      <td>1772062954452346712735135199798093466911797851...</td>\n",
       "    </tr>\n",
       "    <tr>\n",
       "      <th>2002</th>\n",
       "      <td>7420326.2</td>\n",
       "      <td>667115320601-5453N.A.1368414126328877238560389...</td>\n",
       "    </tr>\n",
       "    <tr>\n",
       "      <th>2003</th>\n",
       "      <td>6955711.3</td>\n",
       "      <td>8039173611460-9801411815276113235795518.940791...</td>\n",
       "    </tr>\n",
       "    <tr>\n",
       "      <th>2004</th>\n",
       "      <td>7465268.5</td>\n",
       "      <td>905421510382249515002723047351785375839274.225...</td>\n",
       "    </tr>\n",
       "    <tr>\n",
       "      <th>2005</th>\n",
       "      <td>8247975.6</td>\n",
       "      <td>1026725330280534871659313328812917046110508430...</td>\n",
       "    </tr>\n",
       "  </tbody>\n",
       "</table>\n",
       "</div>"
      ],
      "text/plain": [
       "        revenue                                             profit\n",
       "year                                                              \n",
       "1955   136783.0  806584.8195.4212.619.118.51.6182.8183.8344.413...\n",
       "1956   161398.5  1189.5709.3437370.1100.1200.922.9180.210.1431....\n",
       "1957   174306.5  847.4808.5236.6348.1213.8249.5201481282.7161.4...\n",
       "1958   188312.2  843.6805.2282.8419.4247.9120220.4354.319113.58...\n",
       "1959   176830.9  633.6562.595.7242.9301.6156.8329.510310.285.9-...\n",
       "1960   197395.6  873.1629.8451.4280.2254.6164290.5354.3-5.419.1...\n",
       "1961   204723.7  959688.6427.9200.1304.2182.632.2391.8330.3124....\n",
       "1962   209194.3  892.8758.1409.6242.1211.3190.2430.1338.5122.21...\n",
       "1963   229082.1  1459.1840.9480.7265.8242.3163.7481.7340.1135.2...\n",
       "1964   245090.8  1591.81019.5488.5270.6271.9203.5161.6545.7371....\n",
       "1965   266496.9  1734.81050.6505.6237.3294.2213.8236.8577.4431....\n",
       "1966   298059.1  2125.67031035.7355.1233.4320.1275.5636.7476.94...\n",
       "1967   332580.4  1793.46211090.9338.9189.2356.1709.9249.2526.15...\n",
       "1968   358885.8  1627.31232.384.1361.4200.4385.4651.5754.4578.3...\n",
       "1969   405273.2  1731.91276.7626.6357.1290.7871.5428.2835.5626....\n",
       "1970   444718.2  1710.71047.6546.5278933.988.8434.5769.8234610....\n",
       "1971   463927.9  609.11309.5515.7328.51017.5482.7-7.6353.382225...\n",
       "1972   502898.6  1935.71461.6656.7471.81078.8540.883.7903.9336....\n",
       "1973   557646.5  2162.81531.8870530220.51279.3574.2889483.3282....\n",
       "1974   667105.6  2398.12443.3906.5255.4585.11292.4849.31575.552...\n",
       "1975   833089.0  3142.2950.1360.91586.41047.49701065608.11837.6...\n",
       "1976   865234.8  25031253.1830.6322.7809.9772.51989.9700580.8-2...\n",
       "1977   971137.9  26412902.8983.1869.7942.5880.18162398.1930.642...\n",
       "1978  1086598.7  3337.524231672.81004.7930.81016.42719.47521088...\n",
       "1979  1218696.4  350827631588.91125.6852.51105.93110.61229.7791...\n",
       "1980  1445312.5  4295.22892.72007.21169.31759.11784.713223011.3...\n",
       "1981  1650220.3  5650.13272-762.52642.52401-1543.3140735621915....\n",
       "1982  1773356.7  5567.52433333.423102380-1060.11922330812311671...\n",
       "1983  1672219.5  4185.9962.713801281-657.8440913778949001826181...\n",
       "1984  1686697.3  49783730.215031866.954851233112718681590202497...\n",
       "1985  1758654.8  55284516.512682906.8306658214311369.9228021831...\n",
       "1986  1807068.2  3999487010402515.4655512331547.41556.811182336...\n",
       "1987  1723639.0  2944.753603285.147891407249213972515387151403....\n",
       "1988  1879500.0  355148404625525812582915-440720441786129010071...\n",
       "1989  2023155.0  4856530052605806338620871050130421902337176820...\n",
       "1990  2164856.5  4224.33835351037583939180929463592480241325116...\n",
       "1991  2303272.2  -1985.75010860.1602019294303354014502310215768...\n",
       "1992  2263925.5  -4452.85600-2258-2827263619203006140312941293-...\n",
       "1993  2365498.5  -23498.34770-7385-4965472586249391569-39277127...\n",
       "1994  2370164.3  2465.825295280-8101431520843091-25511068555126...\n",
       "1995  4267468.7  4900.65308510026814676472630211079145447253713...\n",
       "1996  4690323.5  6880.74139647027401394178657323762025545057912...\n",
       "1997  5077371.2  4963444675103056728054295908296435296303201825...\n",
       "1998  5518510.4  6698692084603526820360932805327263104638-17826...\n",
       "1999  5738102.9  2956220714430637092966328580753721120639851651...\n",
       "2000  6324960.8  6002537779107237107177712986734287675230978828...\n",
       "2001  7180879.7  1772062954452346712735135199798093466911797851...\n",
       "2002  7420326.2  667115320601-5453N.A.1368414126328877238560389...\n",
       "2003  6955711.3  8039173611460-9801411815276113235795518.940791...\n",
       "2004  7465268.5  905421510382249515002723047351785375839274.225...\n",
       "2005  8247975.6  1026725330280534871659313328812917046110508430..."
      ]
     },
     "execution_count": 36,
     "metadata": {},
     "output_type": "execute_result"
    }
   ],
   "source": [
    "df[['year', 'revenue', 'profit']].groupby(['year']).sum()"
   ]
  },
  {
   "cell_type": "code",
   "execution_count": 45,
   "id": "dd52eaa9-ee15-4eb4-a954-4d0b62d7348f",
   "metadata": {},
   "outputs": [
    {
     "data": {
      "text/plain": [
       "[<matplotlib.lines.Line2D at 0x2199869fa50>]"
      ]
     },
     "execution_count": 45,
     "metadata": {},
     "output_type": "execute_result"
    },
    {
     "data": {
      "image/png": "[encoded data removed]",
      "text/plain": [
       "<Figure size 640x480 with 1 Axes>"
      ]
     },
     "metadata": {},
     "output_type": "display_data"
    }
   ],
   "source": [
    "plt.plot(g.sum().revenue)"
   ]
  },
  {
   "cell_type": "code",
   "execution_count": 46,
   "id": "8dfccf12-1116-4594-94e1-2a9d04f92a07",
   "metadata": {},
   "outputs": [],
   "source": [
    "import ipywidgets as widgets"
   ]
  },
  {
   "cell_type": "code",
   "execution_count": 64,
   "id": "0e9b4696-8ac3-49d0-b6d4-19f9252d64a2",
   "metadata": {},
   "outputs": [
    {
     "data": {
      "image/png": "[encoded data removed]",
      "text/plain": [
       "<Figure size 1000x600 with 1 Axes>"
      ]
     },
     "metadata": {},
     "output_type": "display_data"
    },
    {
     "data": {
      "application/vnd.jupyter.widget-view+json": {
       "model_id": "22ba81d84643475e8d2ace01d89a99bf",
       "version_major": 2,
       "version_minor": 0
      },
      "text/plain": [
       "interactive(children=(IntRangeSlider(value=(1955, 2005), continuous_update=False, description='Year range:', m…"
      ]
     },
     "metadata": {},
     "output_type": "display_data"
    },
    {
     "data": {
      "text/plain": [
       "<function __main__.update_plot(year_range)>"
      ]
     },
     "execution_count": 64,
     "metadata": {},
     "output_type": "execute_result"
    }
   ],
   "source": [
    "x = df.year.unique()\n",
    "y = g.sum().revenue\n",
    "def update_plot(year_range):\n",
    "    start_year, end_year = year_range\n",
    "    mask = (x >= start_year) & (x <= end_year)\n",
    "\n",
    "    fig, ax = plt.subplots(figsize=(10, 6))\n",
    "    ax.plot(x[mask], y[mask])\n",
    "    plt.show()\n",
    "\n",
    "year_range_slider = widgets.IntRangeSlider(\n",
    "    value=[1955, 2005],\n",
    "    min=1955,\n",
    "    max=2005,\n",
    "    step=1,\n",
    "    description='Year range:',\n",
    "    continuous_update=False\n",
    ")\n",
    "\n",
    "widgets.interact(update_plot, year_range=year_range_slider)"
   ]
  },
  {
   "cell_type": "code",
   "execution_count": 66,
   "id": "22052452-e081-4f5f-8095-e23b93ffe51a",
   "metadata": {},
   "outputs": [
    {
     "data": {
      "text/plain": [
       "10"
      ]
     },
     "metadata": {},
     "output_type": "display_data"
    },
    {
     "data": {
      "application/vnd.jupyter.widget-view+json": {
       "model_id": "545b503b81224e2e9f28168f9af56447",
       "version_major": 2,
       "version_minor": 0
      },
      "text/plain": [
       "interactive(children=(IntSlider(value=10, description='x', max=30, min=-10), Output()), _dom_classes=('widget-…"
      ]
     },
     "metadata": {},
     "output_type": "display_data"
    },
    {
     "data": {
      "text/plain": [
       "<function __main__.f(x)>"
      ]
     },
     "execution_count": 66,
     "metadata": {},
     "output_type": "execute_result"
    }
   ],
   "source": [
    "def f(x):\n",
    "    return x\n",
    "\n",
    "widgets.interact(f, x=10)    "
   ]
  },
  {
   "cell_type": "code",
   "execution_count": 67,
   "id": "b5c1283e-1658-4ff4-8a45-a4ef614a2a04",
   "metadata": {},
   "outputs": [],
   "source": [
    "from ipywidgets import interact, interactive, fixed, interact_manual"
   ]
  },
  {
   "cell_type": "code",
   "execution_count": 68,
   "id": "0c2d6415-0093-45b6-8cdb-c72bb7ecf483",
   "metadata": {},
   "outputs": [
    {
     "data": {
      "text/plain": [
       "10"
      ]
     },
     "metadata": {},
     "output_type": "display_data"
    },
    {
     "data": {
      "application/vnd.jupyter.widget-view+json": {
       "model_id": "1db8a662c72c401d84563a2bd6e35411",
       "version_major": 2,
       "version_minor": 0
      },
      "text/plain": [
       "interactive(children=(IntSlider(value=10, description='x', max=30, min=-10), Output()), _dom_classes=('widget-…"
      ]
     },
     "metadata": {},
     "output_type": "display_data"
    },
    {
     "data": {
      "text/plain": [
       "<function __main__.f(x)>"
      ]
     },
     "execution_count": 68,
     "metadata": {},
     "output_type": "execute_result"
    }
   ],
   "source": [
    "def f(x):\n",
    "    return x\n",
    "\n",
    "interact(f, x=10)  "
   ]
  },
  {
   "cell_type": "code",
   "execution_count": 69,
   "id": "259fbb54-4411-4fa1-97b5-d7ae4fea60f4",
   "metadata": {},
   "outputs": [
    {
     "ename": "SyntaxError",
     "evalue": "invalid syntax (2269694994.py, line 1)",
     "output_type": "error",
     "traceback": [
      "\u001b[1;36m  Cell \u001b[1;32mIn[69], line 1\u001b[1;36m\u001b[0m\n\u001b[1;33m    jupyter nbextension enable --py widgetsnbextension\u001b[0m\n\u001b[1;37m            ^\u001b[0m\n\u001b[1;31mSyntaxError\u001b[0m\u001b[1;31m:\u001b[0m invalid syntax\n"
     ]
    }
   ],
   "source": [
    "jupyter nbextension enable --py widgetsnbextension"
   ]
  },
  {
   "cell_type": "code",
   "execution_count": 1,
   "id": "e1e4e236-67d2-434f-a2bc-77f295734150",
   "metadata": {},
   "outputs": [
    {
     "ename": "NameError",
     "evalue": "name 'interact' is not defined",
     "output_type": "error",
     "traceback": [
      "\u001b[1;31m---------------------------------------------------------------------------\u001b[0m",
      "\u001b[1;31mNameError\u001b[0m                                 Traceback (most recent call last)",
      "Cell \u001b[1;32mIn[1], line 4\u001b[0m\n\u001b[0;32m      1\u001b[0m \u001b[38;5;28;01mdef\u001b[39;00m\u001b[38;5;250m \u001b[39m\u001b[38;5;21mf\u001b[39m(x):\n\u001b[0;32m      2\u001b[0m     \u001b[38;5;28;01mreturn\u001b[39;00m x\n\u001b[1;32m----> 4\u001b[0m \u001b[43minteract\u001b[49m(f, x\u001b[38;5;241m=\u001b[39m\u001b[38;5;241m10\u001b[39m)  \n",
      "\u001b[1;31mNameError\u001b[0m: name 'interact' is not defined"
     ]
    }
   ],
   "source": [
    "def f(x):\n",
    "    return x\n",
    "\n",
    "interact(f, x=10)  "
   ]
  },
  {
   "cell_type": "code",
   "execution_count": 2,
   "id": "8d5b9c97-d382-40f2-a167-cf5d530933d6",
   "metadata": {},
   "outputs": [],
   "source": [
    "from ipywidgets import interact, interactive, fixed, interact_manual"
   ]
  },
  {
   "cell_type": "code",
   "execution_count": 3,
   "id": "af4debcf-34bc-43f7-b6a6-2fd77d8dc87e",
   "metadata": {},
   "outputs": [
    {
     "data": {
      "text/plain": [
       "10"
      ]
     },
     "metadata": {},
     "output_type": "display_data"
    },
    {
     "data": {
      "application/vnd.jupyter.widget-view+json": {
       "model_id": "afc0f6bc81c34befa3cb62ab798eb10e",
       "version_major": 2,
       "version_minor": 0
      },
      "text/plain": [
       "interactive(children=(IntSlider(value=10, description='x', max=30, min=-10), Output()), _dom_classes=('widget-…"
      ]
     },
     "metadata": {},
     "output_type": "display_data"
    },
    {
     "data": {
      "text/plain": [
       "<function __main__.f(x)>"
      ]
     },
     "execution_count": 3,
     "metadata": {},
     "output_type": "execute_result"
    }
   ],
   "source": [
    "def f(x):\n",
    "    return x\n",
    "\n",
    "interact(f, x=10)  "
   ]
  },
  {
   "cell_type": "code",
   "execution_count": null,
   "id": "bae20fb8-f61d-48aa-a10e-50010c74320d",
   "metadata": {},
   "outputs": [],
   "source": []
  }
 ],
 "metadata": {
  "kernelspec": {
   "display_name": "Python 3 (ipykernel)",
   "language": "python",
   "name": "python3"
  },
  "language_info": {
   "codemirror_mode": {
    "name": "ipython",
    "version": 3
   },
   "file_extension": ".py",
   "mimetype": "text/x-python",
   "name": "python",
   "nbconvert_exporter": "python",
   "pygments_lexer": "ipython3",
   "version": "3.11.3"
  }
 },
 "nbformat": 4,
 "nbformat_minor": 5
}
