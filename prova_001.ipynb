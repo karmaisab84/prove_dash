{
 "cells": [
  {
   "cell_type": "markdown",
   "id": "47bf30eb-b544-415a-91af-3ced6dfff7e8",
   "metadata": {},
   "source": [
    "### PROVA GRAFICI"
   ]
  },
  {
   "cell_type": "code",
   "execution_count": 4,
   "id": "9be3f2a2-69e9-4eeb-b8fd-58920004fa5e",
   "metadata": {},
   "outputs": [],
   "source": [
    "import pandas as pd\n",
    "import matplotlib.pyplot as plt"
   ]
  },
  {
   "cell_type": "code",
   "execution_count": 5,
   "id": "0bf4546e-ab08-4dcf-ab90-102db13c875f",
   "metadata": {},
   "outputs": [],
   "source": [
    "df = pd.read_csv('fortune500.csv')"
   ]
  },
  {
   "cell_type": "markdown",
   "id": "4016145a-5992-4ebd-a03a-eea5f3b9b44f",
   "metadata": {},
   "source": [
    "Le prime cique celle del database:\n",
    "* General Motors\n",
    "* Exxon Mobil\n",
    "* U.S. Steel\n",
    "* General Electric\n",
    "* Esmark"
   ]
  },
  {
   "cell_type": "code",
   "execution_count": 6,
   "id": "433d9055-a61e-405c-bb4c-d4e08434be67",
   "metadata": {},
   "outputs": [
    {
     "data": {
      "text/html": [
       "<div>\n",
       "<style scoped>\n",
       "    .dataframe tbody tr th:only-of-type {\n",
       "        vertical-align: middle;\n",
       "    }\n",
       "\n",
       "    .dataframe tbody tr th {\n",
       "        vertical-align: top;\n",
       "    }\n",
       "\n",
       "    .dataframe thead th {\n",
       "        text-align: right;\n",
       "    }\n",
       "</style>\n",
       "<table border=\"1\" class=\"dataframe\">\n",
       "  <thead>\n",
       "    <tr style=\"text-align: right;\">\n",
       "      <th></th>\n",
       "      <th>Year</th>\n",
       "      <th>Rank</th>\n",
       "      <th>Company</th>\n",
       "      <th>Revenue (in millions)</th>\n",
       "      <th>Profit (in millions)</th>\n",
       "    </tr>\n",
       "  </thead>\n",
       "  <tbody>\n",
       "    <tr>\n",
       "      <th>0</th>\n",
       "      <td>1955</td>\n",
       "      <td>1</td>\n",
       "      <td>General Motors</td>\n",
       "      <td>9823.5</td>\n",
       "      <td>806</td>\n",
       "    </tr>\n",
       "    <tr>\n",
       "      <th>1</th>\n",
       "      <td>1955</td>\n",
       "      <td>2</td>\n",
       "      <td>Exxon Mobil</td>\n",
       "      <td>5661.4</td>\n",
       "      <td>584.8</td>\n",
       "    </tr>\n",
       "    <tr>\n",
       "      <th>2</th>\n",
       "      <td>1955</td>\n",
       "      <td>3</td>\n",
       "      <td>U.S. Steel</td>\n",
       "      <td>3250.4</td>\n",
       "      <td>195.4</td>\n",
       "    </tr>\n",
       "    <tr>\n",
       "      <th>3</th>\n",
       "      <td>1955</td>\n",
       "      <td>4</td>\n",
       "      <td>General Electric</td>\n",
       "      <td>2959.1</td>\n",
       "      <td>212.6</td>\n",
       "    </tr>\n",
       "    <tr>\n",
       "      <th>4</th>\n",
       "      <td>1955</td>\n",
       "      <td>5</td>\n",
       "      <td>Esmark</td>\n",
       "      <td>2510.8</td>\n",
       "      <td>19.1</td>\n",
       "    </tr>\n",
       "  </tbody>\n",
       "</table>\n",
       "</div>"
      ],
      "text/plain": [
       "   Year  Rank           Company  Revenue (in millions) Profit (in millions)\n",
       "0  1955     1    General Motors                 9823.5                  806\n",
       "1  1955     2       Exxon Mobil                 5661.4                584.8\n",
       "2  1955     3        U.S. Steel                 3250.4                195.4\n",
       "3  1955     4  General Electric                 2959.1                212.6\n",
       "4  1955     5            Esmark                 2510.8                 19.1"
      ]
     },
     "execution_count": 6,
     "metadata": {},
     "output_type": "execute_result"
    }
   ],
   "source": [
    "df.head()"
   ]
  },
  {
   "cell_type": "code",
   "execution_count": 7,
   "id": "3d3db2c6-0896-4026-afa4-b4ca67674bfd",
   "metadata": {},
   "outputs": [
    {
     "data": {
      "text/plain": [
       "[<matplotlib.lines.Line2D at 0x21c79bf9e50>]"
      ]
     },
     "execution_count": 7,
     "metadata": {},
     "output_type": "execute_result"
    },
    {
     "data": {
      "image/png": "[encoded data removed]",
      "text/plain": [
       "<Figure size 640x480 with 1 Axes>"
      ]
     },
     "metadata": {},
     "output_type": "display_data"
    }
   ],
   "source": [
    "plt.plot(df[df.Company == 'General Motors']['Revenue (in millions)'])"
   ]
  },
  {
   "cell_type": "code",
   "execution_count": 8,
   "id": "29a0d129-281a-4876-8ecc-f60955f81dc5",
   "metadata": {},
   "outputs": [
    {
     "name": "stdout",
     "output_type": "stream",
     "text": [
      "4 is ciaone 5\n"
     ]
    }
   ],
   "source": [
    "print('%d is ciaone %d' % (4, 5))"
   ]
  },
  {
   "cell_type": "code",
   "execution_count": 9,
   "id": "b2873a86-fd72-4b9d-9c1a-a0c14163ede9",
   "metadata": {},
   "outputs": [
    {
     "name": "stdout",
     "output_type": "stream",
     "text": [
      "Il numero è :455\n"
     ]
    }
   ],
   "source": [
    "a = 455\n",
    "print(f'Il numero è :{a}')"
   ]
  },
  {
   "cell_type": "code",
   "execution_count": 10,
   "id": "4f0d9d8f-e8af-41a8-b557-6983de495fd1",
   "metadata": {},
   "outputs": [
    {
     "name": "stdout",
     "output_type": "stream",
     "text": [
      "Il numero è 455\n"
     ]
    }
   ],
   "source": [
    "print(f'Il numero è {a}')\n"
   ]
  },
  {
   "cell_type": "code",
   "execution_count": 11,
   "id": "e4d0a7a7-639c-4609-af63-15c9df99d50b",
   "metadata": {},
   "outputs": [],
   "source": [
    "%matplotlib inline"
   ]
  },
  {
   "cell_type": "code",
   "execution_count": 13,
   "id": "ec8137d0-30ca-459c-b227-f2b590237bba",
   "metadata": {},
   "outputs": [
    {
     "data": {
      "text/plain": [
       "<pandas.core.groupby.generic.DataFrameGroupBy object at 0x0000021C795C36D0>"
      ]
     },
     "execution_count": 13,
     "metadata": {},
     "output_type": "execute_result"
    }
   ],
   "source": [
    "df.groupby(['Year'])\n"
   ]
  },
  {
   "cell_type": "code",
   "execution_count": 15,
   "id": "11543b90-a7b6-41b1-bd97-9772a9a16880",
   "metadata": {},
   "outputs": [
    {
     "data": {
      "text/plain": [
       "Index(['Year', 'Rank', 'Company', 'Revenue (in millions)',\n",
       "       'Profit (in millions)'],\n",
       "      dtype='object')"
      ]
     },
     "execution_count": 15,
     "metadata": {},
     "output_type": "execute_result"
    }
   ],
   "source": [
    "df.columns"
   ]
  },
  {
   "cell_type": "code",
   "execution_count": 16,
   "id": "233efe84-d01b-4671-b14e-0b993d4e2198",
   "metadata": {},
   "outputs": [],
   "source": [
    "df.columns = ['year', 'rank', 'company', 'revenue',\n",
    "       'profit']"
   ]
  },
  {
   "cell_type": "code",
   "execution_count": 17,
   "id": "8ca309cf-6e1a-4e76-ada3-6438aba04a02",
   "metadata": {},
   "outputs": [
    {
     "data": {
      "text/html": [
       "<div>\n",
       "<style scoped>\n",
       "    .dataframe tbody tr th:only-of-type {\n",
       "        vertical-align: middle;\n",
       "    }\n",
       "\n",
       "    .dataframe tbody tr th {\n",
       "        vertical-align: top;\n",
       "    }\n",
       "\n",
       "    .dataframe thead th {\n",
       "        text-align: right;\n",
       "    }\n",
       "</style>\n",
       "<table border=\"1\" class=\"dataframe\">\n",
       "  <thead>\n",
       "    <tr style=\"text-align: right;\">\n",
       "      <th></th>\n",
       "      <th>year</th>\n",
       "      <th>revenue</th>\n",
       "      <th>profit</th>\n",
       "    </tr>\n",
       "  </thead>\n",
       "  <tbody>\n",
       "    <tr>\n",
       "      <th>0</th>\n",
       "      <td>1955</td>\n",
       "      <td>9823.5</td>\n",
       "      <td>806</td>\n",
       "    </tr>\n",
       "    <tr>\n",
       "      <th>1</th>\n",
       "      <td>1955</td>\n",
       "      <td>5661.4</td>\n",
       "      <td>584.8</td>\n",
       "    </tr>\n",
       "    <tr>\n",
       "      <th>2</th>\n",
       "      <td>1955</td>\n",
       "      <td>3250.4</td>\n",
       "      <td>195.4</td>\n",
       "    </tr>\n",
       "    <tr>\n",
       "      <th>3</th>\n",
       "      <td>1955</td>\n",
       "      <td>2959.1</td>\n",
       "      <td>212.6</td>\n",
       "    </tr>\n",
       "    <tr>\n",
       "      <th>4</th>\n",
       "      <td>1955</td>\n",
       "      <td>2510.8</td>\n",
       "      <td>19.1</td>\n",
       "    </tr>\n",
       "    <tr>\n",
       "      <th>...</th>\n",
       "      <td>...</td>\n",
       "      <td>...</td>\n",
       "      <td>...</td>\n",
       "    </tr>\n",
       "    <tr>\n",
       "      <th>25495</th>\n",
       "      <td>2005</td>\n",
       "      <td>3648.6</td>\n",
       "      <td>493</td>\n",
       "    </tr>\n",
       "    <tr>\n",
       "      <th>25496</th>\n",
       "      <td>2005</td>\n",
       "      <td>3631.6</td>\n",
       "      <td>175.4</td>\n",
       "    </tr>\n",
       "    <tr>\n",
       "      <th>25497</th>\n",
       "      <td>2005</td>\n",
       "      <td>3630.4</td>\n",
       "      <td>57.8</td>\n",
       "    </tr>\n",
       "    <tr>\n",
       "      <th>25498</th>\n",
       "      <td>2005</td>\n",
       "      <td>3616.6</td>\n",
       "      <td>70.6</td>\n",
       "    </tr>\n",
       "    <tr>\n",
       "      <th>25499</th>\n",
       "      <td>2005</td>\n",
       "      <td>3614.0</td>\n",
       "      <td>584</td>\n",
       "    </tr>\n",
       "  </tbody>\n",
       "</table>\n",
       "<p>25500 rows × 3 columns</p>\n",
       "</div>"
      ],
      "text/plain": [
       "       year  revenue profit\n",
       "0      1955   9823.5    806\n",
       "1      1955   5661.4  584.8\n",
       "2      1955   3250.4  195.4\n",
       "3      1955   2959.1  212.6\n",
       "4      1955   2510.8   19.1\n",
       "...     ...      ...    ...\n",
       "25495  2005   3648.6    493\n",
       "25496  2005   3631.6  175.4\n",
       "25497  2005   3630.4   57.8\n",
       "25498  2005   3616.6   70.6\n",
       "25499  2005   3614.0    584\n",
       "\n",
       "[25500 rows x 3 columns]"
      ]
     },
     "execution_count": 17,
     "metadata": {},
     "output_type": "execute_result"
    }
   ],
   "source": [
    " df[['year', 'revenue', 'profit']]"
   ]
  },
  {
   "cell_type": "code",
   "execution_count": 6,
   "id": "87a8655c-3509-4fbc-9ef0-d97061b6117c",
   "metadata": {},
   "outputs": [
    {
     "data": {
      "application/vnd.jupyter.widget-view+json": {
       "model_id": "a7143e4609604daeb08fa117ec6ddfe4",
       "version_major": 2,
       "version_minor": 0
      },
      "text/plain": [
       "interactive(children=(IntRangeSlider(value=(1955, 2005), continuous_update=False, description='Year range:', m…"
      ]
     },
     "metadata": {},
     "output_type": "display_data"
    },
    {
     "data": {
      "text/plain": [
       "<function __main__.update_plot(year_range)>"
      ]
     },
     "execution_count": 6,
     "metadata": {},
     "output_type": "execute_result"
    }
   ],
   "source": [
    "%matplotlib inline\n",
    "import pandas as pd\n",
    "from ipywidgets import interact, interactive, fixed, interact_manual\n",
    "import ipywidgets as widgets\n",
    "import matplotlib.pyplot as plt\n",
    "\n",
    "df = pd.read_csv('fortune500.csv')\n",
    "df.columns = ['year', 'rank', 'company', 'revenue', 'profit']\n",
    "g = df[['year', 'revenue', 'profit']].groupby(['year'])\n",
    "x = df.year.unique()\n",
    "y = g.sum().revenue\n",
    "\n",
    "def update_plot(year_range):\n",
    "    start_year, end_year = year_range\n",
    "    mask = (x >= start_year) & (x <= end_year)\n",
    "\n",
    "    fig, ax = plt.subplots(figsize=(10, 6))\n",
    "    ax.plot(x[mask], y[mask])\n",
    "    plt.show()\n",
    "    \n",
    "\n",
    "year_range_slider = widgets.IntRangeSlider(\n",
    "    value=[1955, 2005],\n",
    "    min=1955,\n",
    "    max=2005,\n",
    "    step=1,\n",
    "    description='Year range:',\n",
    "    continuous_update=False\n",
    ")\n",
    "\n",
    "interact(update_plot, year_range=year_range_slider)"
   ]
  },
  {
   "cell_type": "code",
   "execution_count": 8,
   "id": "232bb873-75d6-43a0-91ef-b8f8089166c6",
   "metadata": {},
   "outputs": [
    {
     "ename": "SyntaxError",
     "evalue": "invalid syntax (862826923.py, line 1)",
     "output_type": "error",
     "traceback": [
      "\u001b[1;36m  Cell \u001b[1;32mIn[8], line 1\u001b[1;36m\u001b[0m\n\u001b[1;33m    $ jupyter nbconvert --to html prova001.ipynb\u001b[0m\n\u001b[1;37m    ^\u001b[0m\n\u001b[1;31mSyntaxError\u001b[0m\u001b[1;31m:\u001b[0m invalid syntax\n"
     ]
    }
   ],
   "source": [
    "$ jupyter nbconvert --to html prova001.ipynb"
   ]
  },
  {
   "cell_type": "code",
   "execution_count": null,
   "id": "92ea55a4-e76e-4b75-b312-5de109b58305",
   "metadata": {},
   "outputs": [],
   "source": []
  }
 ],
 "metadata": {
  "kernelspec": {
   "display_name": "Python 3 (ipykernel)",
   "language": "python",
   "name": "python3"
  },
  "language_info": {
   "codemirror_mode": {
    "name": "ipython",
    "version": 3
   },
   "file_extension": ".py",
   "mimetype": "text/x-python",
   "name": "python",
   "nbconvert_exporter": "python",
   "pygments_lexer": "ipython3",
   "version": "3.11.3"
  },
  "widgets": {
   "application/vnd.jupyter.widget-state+json": {
    "state": {
     "0afd18f8ef644e3aa8b91767699978d4": {
      "model_module": "@jupyter-widgets/controls",
      "model_module_version": "2.0.0",
      "model_name": "SliderStyleModel",
      "state": {
       "description_width": ""
      }
     },
     "17a79226d4094ff3b80878c3cff6fdf6": {
      "model_module": "@jupyter-widgets/base",
      "model_module_version": "2.0.0",
      "model_name": "LayoutModel",
      "state": {}
     },
     "2f987eafa75f44928e2aa69253d26804": {
      "model_module": "@jupyter-widgets/controls",
      "model_module_version": "2.0.0",
      "model_name": "IntRangeSliderModel",
      "state": {
       "_model_name": "IntRangeSliderModel",
       "_view_name": "IntRangeSliderView",
       "behavior": "drag-tap",
       "continuous_update": false,
       "description": "Year range:",
       "layout": "IPY_MODEL_17a79226d4094ff3b80878c3cff6fdf6",
       "max": 2005,
       "min": 1955,
       "style": "IPY_MODEL_0afd18f8ef644e3aa8b91767699978d4",
       "value": [
        1970,
        2005
       ]
      }
     },
     "315795d9999b4d39a9febb51d0cccd54": {
      "model_module": "@jupyter-widgets/controls",
      "model_module_version": "2.0.0",
      "model_name": "SliderStyleModel",
      "state": {
       "description_width": ""
      }
     },
     "325d378687df4368af1aea6c554c88fe": {
      "model_module": "@jupyter-widgets/controls",
      "model_module_version": "2.0.0",
      "model_name": "VBoxModel",
      "state": {
       "_dom_classes": [
        "widget-interact"
       ],
       "children": [
        "IPY_MODEL_79684767c521488eb6b2660c44a7de0d",
        "IPY_MODEL_f0651519027f4681af1a1e5b3a2ed221"
       ],
       "layout": "IPY_MODEL_5cc1b635ec0b4e38849d847c7ea216d4"
      }
     },
     "35d41717a5924067a481adf7e9b60747": {
      "model_module": "@jupyter-widgets/base",
      "model_module_version": "2.0.0",
      "model_name": "LayoutModel",
      "state": {}
     },
     "452ff99d716848ef8024ef4228e96879": {
      "model_module": "@jupyter-widgets/base",
      "model_module_version": "2.0.0",
      "model_name": "LayoutModel",
      "state": {}
     },
     "555c70b9645547c8a7b801c5cb4219c2": {
      "model_module": "@jupyter-widgets/base",
      "model_module_version": "2.0.0",
      "model_name": "LayoutModel",
      "state": {}
     },
     "5cc1b635ec0b4e38849d847c7ea216d4": {
      "model_module": "@jupyter-widgets/base",
      "model_module_version": "2.0.0",
      "model_name": "LayoutModel",
      "state": {}
     },
     "79684767c521488eb6b2660c44a7de0d": {
      "model_module": "@jupyter-widgets/controls",
      "model_module_version": "2.0.0",
      "model_name": "IntRangeSliderModel",
      "state": {
       "_model_name": "IntRangeSliderModel",
       "_view_name": "IntRangeSliderView",
       "behavior": "drag-tap",
       "continuous_update": false,
       "description": "Year range:",
       "layout": "IPY_MODEL_555c70b9645547c8a7b801c5cb4219c2",
       "max": 2005,
       "min": 1955,
       "style": "IPY_MODEL_315795d9999b4d39a9febb51d0cccd54",
       "value": [
        1955,
        2005
       ]
      }
     },
     "a7143e4609604daeb08fa117ec6ddfe4": {
      "model_module": "@jupyter-widgets/controls",
      "model_module_version": "2.0.0",
      "model_name": "VBoxModel",
      "state": {
       "_dom_classes": [
        "widget-interact"
       ],
       "children": [
        "IPY_MODEL_2f987eafa75f44928e2aa69253d26804",
        "IPY_MODEL_b817f5f5f3e24faeb446b1c418388c9e"
       ],
       "layout": "IPY_MODEL_452ff99d716848ef8024ef4228e96879"
      }
     },
     "b817f5f5f3e24faeb446b1c418388c9e": {
      "model_module": "@jupyter-widgets/output",
      "model_module_version": "1.0.0",
      "model_name": "OutputModel",
      "state": {
       "layout": "IPY_MODEL_35d41717a5924067a481adf7e9b60747",
       "outputs": [
        {
         "data": {
          "image/png": "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",
          "text/plain": "<Figure size 1000x600 with 1 Axes>"
         },
         "metadata": {},
         "output_type": "display_data"
        }
       ]
      }
     },
     "bbd1cc1a0448428ea2f33896c58eb4d1": {
      "model_module": "@jupyter-widgets/base",
      "model_module_version": "2.0.0",
      "model_name": "LayoutModel",
      "state": {}
     },
     "f0651519027f4681af1a1e5b3a2ed221": {
      "model_module": "@jupyter-widgets/output",
      "model_module_version": "1.0.0",
      "model_name": "OutputModel",
      "state": {
       "layout": "IPY_MODEL_bbd1cc1a0448428ea2f33896c58eb4d1",
       "outputs": [
        {
         "ename": "NameError",
         "evalue": "name 'plt' is not defined",
         "output_type": "error",
         "traceback": [
          "\u001b[1;31m---------------------------------------------------------------------------\u001b[0m",
          "\u001b[1;31mNameError\u001b[0m                                 Traceback (most recent call last)",
          "File \u001b[1;32m~\\AppData\\Local\\Programs\\Python\\Python311\\Lib\\site-packages\\ipywidgets\\widgets\\interaction.py:243\u001b[0m, in \u001b[0;36minteractive.update\u001b[1;34m(self, *args)\u001b[0m\n\u001b[0;32m    241\u001b[0m     value \u001b[38;5;241m=\u001b[39m widget\u001b[38;5;241m.\u001b[39mget_interact_value()\n\u001b[0;32m    242\u001b[0m     \u001b[38;5;28mself\u001b[39m\u001b[38;5;241m.\u001b[39mkwargs[widget\u001b[38;5;241m.\u001b[39m_kwarg] \u001b[38;5;241m=\u001b[39m value\n\u001b[1;32m--> 243\u001b[0m \u001b[38;5;28mself\u001b[39m\u001b[38;5;241m.\u001b[39mresult \u001b[38;5;241m=\u001b[39m \u001b[38;5;28;43mself\u001b[39;49m\u001b[38;5;241;43m.\u001b[39;49m\u001b[43mf\u001b[49m\u001b[43m(\u001b[49m\u001b[38;5;241;43m*\u001b[39;49m\u001b[38;5;241;43m*\u001b[39;49m\u001b[38;5;28;43mself\u001b[39;49m\u001b[38;5;241;43m.\u001b[39;49m\u001b[43mkwargs\u001b[49m\u001b[43m)\u001b[49m\n\u001b[0;32m    244\u001b[0m show_inline_matplotlib_plots()\n\u001b[0;32m    245\u001b[0m \u001b[38;5;28;01mif\u001b[39;00m \u001b[38;5;28mself\u001b[39m\u001b[38;5;241m.\u001b[39mauto_display \u001b[38;5;129;01mand\u001b[39;00m \u001b[38;5;28mself\u001b[39m\u001b[38;5;241m.\u001b[39mresult \u001b[38;5;129;01mis\u001b[39;00m \u001b[38;5;129;01mnot\u001b[39;00m \u001b[38;5;28;01mNone\u001b[39;00m:\n",
          "Cell \u001b[1;32mIn[5], line 16\u001b[0m, in \u001b[0;36mupdate_plot\u001b[1;34m(year_range)\u001b[0m\n\u001b[0;32m     13\u001b[0m start_year, end_year \u001b[38;5;241m=\u001b[39m year_range\n\u001b[0;32m     14\u001b[0m mask \u001b[38;5;241m=\u001b[39m (x \u001b[38;5;241m>\u001b[39m\u001b[38;5;241m=\u001b[39m start_year) \u001b[38;5;241m&\u001b[39m (x \u001b[38;5;241m<\u001b[39m\u001b[38;5;241m=\u001b[39m end_year)\n\u001b[1;32m---> 16\u001b[0m fig, ax \u001b[38;5;241m=\u001b[39m \u001b[43mplt\u001b[49m\u001b[38;5;241m.\u001b[39msubplots(figsize\u001b[38;5;241m=\u001b[39m(\u001b[38;5;241m10\u001b[39m, \u001b[38;5;241m6\u001b[39m))\n\u001b[0;32m     17\u001b[0m ax\u001b[38;5;241m.\u001b[39mplot(x[mask], y[mask])\n\u001b[0;32m     18\u001b[0m plt\u001b[38;5;241m.\u001b[39mshow()\n",
          "\u001b[1;31mNameError\u001b[0m: name 'plt' is not defined"
         ]
        }
       ]
      }
     }
    },
    "version_major": 2,
    "version_minor": 0
   }
  }
 },
 "nbformat": 4,
 "nbformat_minor": 5
}
